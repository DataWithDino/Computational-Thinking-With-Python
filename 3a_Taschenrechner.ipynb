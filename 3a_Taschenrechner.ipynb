{
 "cells": [
  {
   "cell_type": "markdown",
   "metadata": {},
   "source": [
    "# Übung 030a\n",
    "## Computational Thinking\n",
    "Hochschule München, Prof. Dr. Thomas Kofler\n",
    "\n",
    "\n",
    "\n",
    "\n"
   ]
  },
  {
   "cell_type": "markdown",
   "metadata": {},
   "source": [
    "### Aufgabe 1\n",
    "Entwicklen Sie einen (kleinen) Taschenrechner. \n",
    "Der Taschrechner soll die Rechenoperationen\n",
    "* Addieren\n",
    "* Substrahieren\n",
    "* Multiplizieren und\n",
    "* Dividieren\n",
    "für ganze Zahlen erlauben.\n",
    "\n",
    "Ein Beispielablauf könnte daher lauten:\n",
    "1. Geben Sie eine erste Zahl ein: 321\n",
    "2. Geben Sie eine zweite Zahl ein: 9\n",
    "3. Geben Sie eine Rechenoperation ein: /\n",
    "4. Das Ergebnis von 321 / 9 lautet 35\n",
    "\n",
    "Hinweis: Rechnen Sie nur mit ganzen Zahlen. Z.B. wird der Rest der Division wird nicht ausgegeben.\n"
   ]
  },
  {
   "cell_type": "code",
   "execution_count": 15,
   "metadata": {
    "tags": []
   },
   "outputs": [
    {
     "name": "stdout",
     "output_type": "stream",
     "text": [
      "Geben Sie eine erste Zahl ein: \n"
     ]
    },
    {
     "name": "stdin",
     "output_type": "stream",
     "text": [
      " 321\n"
     ]
    },
    {
     "name": "stdout",
     "output_type": "stream",
     "text": [
      "Geben Sie eine zweite Zahl ein: \n"
     ]
    },
    {
     "name": "stdin",
     "output_type": "stream",
     "text": [
      " 9\n"
     ]
    },
    {
     "name": "stdout",
     "output_type": "stream",
     "text": [
      "Geben Sie eine Rechenoperation ein: \n"
     ]
    },
    {
     "name": "stdin",
     "output_type": "stream",
     "text": [
      " /\n"
     ]
    },
    {
     "name": "stdout",
     "output_type": "stream",
     "text": [
      "35\n"
     ]
    }
   ],
   "source": [
    "#Hier bitte die Lösung eintragen\n",
    "result = 0\n",
    "#Vorgaben\n",
    "print(\"Geben Sie eine erste Zahl ein: \")\n",
    "a=input()\n",
    "a=int(a)\n",
    "\n",
    "print(\"Geben Sie eine zweite Zahl ein: \")\n",
    "b=input()\n",
    "b=int(b)\n",
    "\n",
    "print(\"Geben Sie eine Rechenoperation ein: \")\n",
    "operator=input()\n",
    "\n",
    "\n",
    "if (operator == \"+\"):\n",
    "    result=a+b\n",
    "if (operator == \"-\"):\n",
    "    result=a-b\n",
    "if (operator == \"*\"):\n",
    "    result=a*b\n",
    "if (operator == \"/\"):\n",
    "    result=a//b\n",
    "    \n",
    "print(result)"
   ]
  },
  {
   "cell_type": "code",
   "execution_count": null,
   "metadata": {},
   "outputs": [],
   "source": []
  }
 ],
 "metadata": {
  "kernelspec": {
   "display_name": "Python 3 (ipykernel)",
   "language": "python",
   "name": "python3"
  },
  "language_info": {
   "codemirror_mode": {
    "name": "ipython",
    "version": 3
   },
   "file_extension": ".py",
   "mimetype": "text/x-python",
   "name": "python",
   "nbconvert_exporter": "python",
   "pygments_lexer": "ipython3",
   "version": "3.11.4"
  },
  "vscode": {
   "interpreter": {
    "hash": "3e8152e6aee2daa82ef9c6dca186ad9f49ea31c3d0b948ef0ee167d461c00ece"
   }
  }
 },
 "nbformat": 4,
 "nbformat_minor": 4
}
