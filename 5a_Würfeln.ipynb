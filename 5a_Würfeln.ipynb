{
 "cells": [
  {
   "cell_type": "markdown",
   "metadata": {},
   "source": [
    "# Übung 050a\n",
    "## Computational Thinking\n",
    "Hochschule München, Prof. Dr. Thomas Kofler\n",
    "\n",
    "\n",
    "\n",
    "\n"
   ]
  },
  {
   "cell_type": "markdown",
   "metadata": {},
   "source": [
    "### Aufgabe 1\n",
    "\n",
    "Schreiben Sie einen Würfelsimulator. \n",
    "\n",
    "- Fragen Sie den Benutzer, wie viele Spieler im Spiel involviert sind.\n",
    "- Fragen Sie den Benutzer, ob ein Spieler nochmals würfeln darf, wenn eine 6 kommt.\n",
    "\n",
    "Ablauf:\n",
    "- Sie zeigen dem Benutzer an, welcher Spieler gerade am Zug ist, 1 ... n\n",
    "- Sie warten auf eine Eingabe des Benutzers (z.B. Enter), dann wird der Zufallswert zwischen 1 und 6 angezeigt.\n",
    "- Wenn der Benutzer eine 6 wirft, darf der Benutzer nochmals würfeln, solange, bis keine 6 mehr kommt. Sofern der Benutzer gewählt hat, dass man bei einer 6 nochmals würfeln darf.\n",
    "- Wenn der Zug beendet ist, zeigen Sie an, dass der nächste Spieler am Zug ist.\n",
    "- Sie können den Ablauf stoppen, falls statt einer leeren Eingabe z.B. \"q\" für \"quit\" eingegeben wird."
   ]
  },
  {
   "cell_type": "code",
   "execution_count": null,
   "metadata": {},
   "outputs": [
    {
     "name": "stdin",
     "output_type": "stream",
     "text": [
      "Geben Sie die Anzahl der Spieler an:  3\n",
      "Darf man nochmal würfeln, wenn eine 6 kommt? Geben Sie Ja oder Nein ein:  Nein\n"
     ]
    },
    {
     "name": "stdout",
     "output_type": "stream",
     "text": [
      "Spieler1 ist dran\n"
     ]
    },
    {
     "name": "stdin",
     "output_type": "stream",
     "text": [
      "*Enter* zum Würfeln, quit zum Stoppen \n"
     ]
    },
    {
     "name": "stdout",
     "output_type": "stream",
     "text": [
      "2\n",
      "Spieler2 ist dran\n"
     ]
    },
    {
     "name": "stdin",
     "output_type": "stream",
     "text": [
      "*Enter* zum Würfeln, quit zum Stoppen \n"
     ]
    },
    {
     "name": "stdout",
     "output_type": "stream",
     "text": [
      "3\n",
      "Spieler3 ist dran\n"
     ]
    },
    {
     "name": "stdin",
     "output_type": "stream",
     "text": [
      "*Enter* zum Würfeln, quit zum Stoppen \n"
     ]
    },
    {
     "name": "stdout",
     "output_type": "stream",
     "text": [
      "5\n",
      "Spieler1 ist dran\n"
     ]
    },
    {
     "name": "stdin",
     "output_type": "stream",
     "text": [
      "*Enter* zum Würfeln, quit zum Stoppen \n"
     ]
    },
    {
     "name": "stdout",
     "output_type": "stream",
     "text": [
      "3\n",
      "Spieler2 ist dran\n"
     ]
    },
    {
     "name": "stdin",
     "output_type": "stream",
     "text": [
      "*Enter* zum Würfeln, quit zum Stoppen \n"
     ]
    },
    {
     "name": "stdout",
     "output_type": "stream",
     "text": [
      "1\n",
      "Spieler3 ist dran\n"
     ]
    },
    {
     "name": "stdin",
     "output_type": "stream",
     "text": [
      "*Enter* zum Würfeln, quit zum Stoppen \n"
     ]
    },
    {
     "name": "stdout",
     "output_type": "stream",
     "text": [
      "2\n",
      "Spieler1 ist dran\n"
     ]
    },
    {
     "name": "stdin",
     "output_type": "stream",
     "text": [
      "*Enter* zum Würfeln, quit zum Stoppen \n"
     ]
    },
    {
     "name": "stdout",
     "output_type": "stream",
     "text": [
      "6\n",
      "Spieler2 ist dran\n"
     ]
    },
    {
     "name": "stdin",
     "output_type": "stream",
     "text": [
      "*Enter* zum Würfeln, quit zum Stoppen \n"
     ]
    },
    {
     "name": "stdout",
     "output_type": "stream",
     "text": [
      "6\n",
      "Spieler3 ist dran\n"
     ]
    }
   ],
   "source": [
    "import random\n",
    "def Würfeln():\n",
    "    return random.randint(1,6)\n",
    "\n",
    "anzahl_spieler = int(input(\"Geben Sie die Anzahl der Spieler an: \"))\n",
    "regel = str(input(\"Darf man nochmal würfeln, wenn eine 6 kommt? Geben Sie Ja oder Nein ein: \"))\n",
    "\n",
    "i=1\n",
    "while(i<=anzahl_spieler):\n",
    "    print(f\"Spieler{i} ist dran\")\n",
    "    würfeln=str(input(\"*Enter* zum Würfeln, \"\"quit\"\" zum Stoppen\"))\n",
    "    \n",
    "    if(würfeln==\"quit\"):\n",
    "        print(\"Das Spiel wurde beendet.\")\n",
    "        break\n",
    "    \n",
    "    würfel=Würfeln()\n",
    "    print(würfel)\n",
    "    \n",
    "    if(würfel == 6 and regel==\"Ja\"):\n",
    "        print(\"Du hast eine 6 gewürfelt! Du darfst nochmal würfeln.\")\n",
    "        continue\n",
    "        \n",
    "        \n",
    "    i+=1    \n",
    "    \n",
    "    if(i>anzahl_spieler):\n",
    "        i=1\n",
    "\n",
    "\n",
    "            "
   ]
  },
  {
   "cell_type": "code",
   "execution_count": null,
   "metadata": {},
   "outputs": [],
   "source": []
  },
  {
   "cell_type": "code",
   "execution_count": null,
   "metadata": {},
   "outputs": [],
   "source": []
  }
 ],
 "metadata": {
  "kernelspec": {
   "display_name": "Python 3 (ipykernel)",
   "language": "python",
   "name": "python3"
  },
  "language_info": {
   "codemirror_mode": {
    "name": "ipython",
    "version": 3
   },
   "file_extension": ".py",
   "mimetype": "text/x-python",
   "name": "python",
   "nbconvert_exporter": "python",
   "pygments_lexer": "ipython3",
   "version": "3.11.4"
  },
  "vscode": {
   "interpreter": {
    "hash": "3e8152e6aee2daa82ef9c6dca186ad9f49ea31c3d0b948ef0ee167d461c00ece"
   }
  }
 },
 "nbformat": 4,
 "nbformat_minor": 4
}
