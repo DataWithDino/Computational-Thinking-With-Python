{
 "cells": [
  {
   "cell_type": "markdown",
   "metadata": {},
   "source": [
    "# Übung 060a\n",
    "## Computational Thinking\n",
    "Hochschule München, Prof. Dr. Thomas Kofler"
   ]
  },
  {
   "cell_type": "markdown",
   "metadata": {},
   "source": [
    "### Aufgabe 1\n",
    "\n",
    "Schreiben Sie einen Lottozahlen-Generator, der zufällig Zahlen von 1 bis 49 ausgibt. \n",
    "\n",
    "Fragen, die Sie beantworten müssen:\n",
    "* Wie generieren Sie eine Zufallszahl?\n",
    "* Wie stellen Sie sicher, dass diese im gewünschten Zahlbereich ist?\n",
    "* Wie stellen Sie sicher, dass eine gezogene Zahl nur einmal im Ergebnis vorkommt?\n",
    "\n",
    "Stellen Sie sicher, dass\n",
    "* genau sechs Zahlen im Endergebnis vorhanden sind.\n",
    "* Sortieren Sie das Endergebnis aufsteigend.\n",
    "\n",
    "Verwenden Sie als Ausgabe-Datentyp eine Liste mit dem Namen \"lottozahlen\"."
   ]
  },
  {
   "cell_type": "code",
   "execution_count": 11,
   "metadata": {},
   "outputs": [
    {
     "data": {
      "text/plain": [
       "[6, 39, 19, 14, 2, 42]"
      ]
     },
     "execution_count": 11,
     "metadata": {},
     "output_type": "execute_result"
    }
   ],
   "source": [
    "import random\n",
    "\n",
    "lottozahlen = random.sample(range(1, 49), 6)\n",
    "lottozahlen\n"
   ]
  },
  {
   "cell_type": "markdown",
   "metadata": {},
   "source": [
    "### Aufgabe 2: Professor Ungerechtmann\n",
    "\n",
    "Professor Ungerechtmann braucht ein Programm für die Notenvergabe der Prüfungen. \n",
    "Die Abschlussnote hängt von folgenden Parametern ab:\n",
    "\n",
    "- Die Prüfungsnote (von 1.0 bis 5.0)\n",
    "- Die Augenfarbe (dunkel, hell)\n",
    "- Frisur (kurze Haare, lange Haare)\n",
    "- Wetter (schön, nicht schön)\n",
    "\n",
    "Es gelten folgende Regeln:\n",
    "- Hat der/die Studierende dunkle Augen und\n",
    "    - kurze Haare, so wird die Abschlussnote um 10% erhöht. \n",
    "    - lange Haare, so wird die Abschlussnote um 10% reduziert.\n",
    "- Hat der/die Studierende helle Augen und\n",
    "    - kurze Haare, so wird die Abschlussnote um 10% reduziert.\n",
    "    - lange Haare, so wird die Abschlussnote um 10% erhöht.\n",
    "- Ist das Wetter schön, so wird die Abschlussnote um eine Einheit reduziert.\n",
    "- Die Abschlussnoten müssen ein Element aus folgender Menge sein: [1.0, 1.3, 1.7, 2.0, 2.3, 2.7, 3.0, 3.3, 3.7, 4.0, 5.0]\n",
    "\n",
    "Schreiben Sie eine Funktion, die die Parameter eines Studierenden übernimmt und die Abschlussnote liefert.\n"
   ]
  },
  {
   "cell_type": "code",
   "execution_count": 30,
   "metadata": {},
   "outputs": [
    {
     "name": "stdin",
     "output_type": "stream",
     "text": [
      "Note:  3.5\n",
      "Sind die Augen hell oder dunkel:  hell\n",
      "Sind die Haare lang oder kurz:  kurze Haare\n",
      "Wie ist das Wetter?  sonnig\n"
     ]
    },
    {
     "name": "stdout",
     "output_type": "stream",
     "text": [
      "Note nach Professorlaune: 2.15\n",
      "Note nach Professorlaune im System: 2.0\n"
     ]
    }
   ],
   "source": [
    "def berechneNote(pruefungsnote, augenfarbe, firsur, wetter) -> float:\n",
    "              \n",
    "    if augenfarbe==\"dunkel\" and firsur==\"kurze Haare\" or augenfarbe==\"hell\" and firsur==\"lange Haare\":\n",
    "        pruefungsnote = pruefungsnote*1.1\n",
    "    else:\n",
    "        pruefungsnote = pruefungsnote*0.9\n",
    "\n",
    "    if wetter==\"sonnig\":\n",
    "        pruefungsnote = pruefungsnote-1\n",
    "    return pruefungsnote\n",
    "\n",
    "pruefungsnote = float(input(\"Note: \"))\n",
    "augenfarbe = input(\"Sind die Augen hell oder dunkel: \")\n",
    "firsur = input(\"Sind die Haare lang oder kurz: \")\n",
    "wetter = input(\"Wie ist das Wetter? \")\n",
    "\n",
    "professornote=berechneNote(pruefungsnote, augenfarbe, firsur, wetter)\n",
    "print(f\"Note nach Professorlaune: {professornote}\")\n",
    "#Hier soll Ihr Code stehen\n",
    "notenspektrum = [1.0, 1.3, 1.7, 2.0, 2.3, 2.7, 3.0, 3.3, 3.7, 4.0, 5.0]\n",
    "\n",
    "professornote = min(notenspektrum, key=lambda x: abs(professornote - x))\n",
    "\n",
    "print(f\"Note nach Professorlaune im System: {professornote}\")\n",
    " \n",
    "\n",
    "    \n"
   ]
  },
  {
   "cell_type": "code",
   "execution_count": null,
   "metadata": {},
   "outputs": [],
   "source": []
  }
 ],
 "metadata": {
  "kernelspec": {
   "display_name": "Python 3 (ipykernel)",
   "language": "python",
   "name": "python3"
  },
  "language_info": {
   "codemirror_mode": {
    "name": "ipython",
    "version": 3
   },
   "file_extension": ".py",
   "mimetype": "text/x-python",
   "name": "python",
   "nbconvert_exporter": "python",
   "pygments_lexer": "ipython3",
   "version": "3.11.4"
  },
  "vscode": {
   "interpreter": {
    "hash": "3e8152e6aee2daa82ef9c6dca186ad9f49ea31c3d0b948ef0ee167d461c00ece"
   }
  }
 },
 "nbformat": 4,
 "nbformat_minor": 4
}
