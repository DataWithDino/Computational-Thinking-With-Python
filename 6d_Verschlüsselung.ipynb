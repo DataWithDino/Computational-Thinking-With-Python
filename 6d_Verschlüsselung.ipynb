{
 "cells": [
  {
   "cell_type": "markdown",
   "metadata": {},
   "source": [
    "# Übung 065a\n",
    "## Computational Thinking\n",
    "Hochschule München, Prof. Dr. Thomas Kofler\n",
    "\n",
    "\n",
    "\n",
    "\n"
   ]
  },
  {
   "cell_type": "markdown",
   "metadata": {},
   "source": [
    "### Aufgabe 2\n",
    "\n",
    "Caesar-Verschlüsselung: In diesem einfachen Verschlüsselungsverfahren wird jeder Buchstabe zyklisch mit dem Buchstaben ersetzt, der im Alphabet *k* Buchstaben weiter steht. \n",
    "\n",
    "Z.B. **aabbcc** als Zeichenkette wird bei einem k=3 zu **ddeeff**\n",
    "Erreichen wir das Ende des Alphabets, so beginnen wir von vorne:\n",
    "z.B. **xxyy** wird bei k=3 zu **aabb**\n",
    "\n",
    "Implementieren Sie Funktionen, die folgende Anforderungen erfüllen:\n",
    "* Encoding: Codierung einer beliebigen Zeichenkette mit einem frei definierbaren *k*\n",
    "* Decoding: Decodierung einer codierten Zeichenkette unter Angabe des urpsrünglichen *k*\n",
    "* Beachten Sie in beiden Funktionen initial nur kleingeschriebene Eingaben.\n",
    "\n",
    "Folgende Anforderungen sind für die Schnellen:\n",
    "* Berücksichtigung von Groß- und Kleinschreibung\n",
    "* Berücksichtigen Sie auch Leerzeichen und Interpunktionszeichen (z.B. \".\", \",\", \"-\"). Diese sollen, ohne Änderung, erhalten bleiben.\n",
    "* Überlegen Sie, wie sie mit Umlauten umgehen könnten.\n"
   ]
  },
  {
   "cell_type": "code",
   "execution_count": 16,
   "metadata": {
    "tags": []
   },
   "outputs": [
    {
     "name": "stdout",
     "output_type": "stream",
     "text": [
      "abcd\n",
      "bcde\n",
      "fghi\n",
      "klmn\n",
      "abcd\n",
      "abcd\n",
      "abcd\n",
      "abcd\n"
     ]
    }
   ],
   "source": [
    "lowerChars = [chr(x) for x in range(97, 123)] #Using ASCII Codes for lower letters\n",
    "\n",
    "def encode(input : str, k : int) -> str:\n",
    "    encode=\"\"   \n",
    "    for element in input:\n",
    "        if element.isalpha() and element.islower(): #is.alphs kontrolliert ob es im Alphabet ist\n",
    "            encrypted_char = chr((ord(element) - ord('a') + k) % 26 + ord('a'))#The ord() function returns the ASCII value of a character.\n",
    "            #(ord(element) - ord('a') + k): This part calculates the offset of the character element from 'a' and then adds the shift value k. \n",
    "            #This is the core of the Caesar cipher algorithm. It determines how many positions in the alphabet the character should be shifted.\n",
    "        encode += encrypted_char  \n",
    "    \n",
    "    return encode\n",
    "\n",
    "def decode(codedInput : str, k : int) -> str:\n",
    "    decode = \"\"\n",
    "    for element in codedInput:\n",
    "        if element.isalpha() and element.islower():\n",
    "            decrypted_char = chr((ord(element) - ord('a') - k) % 26 + ord('a'))\n",
    "        decode += decrypted_char\n",
    "    \n",
    "    return decode\n",
    "\n",
    "\n",
    "#TestCases\n",
    "print(encode(\"abcd\", 0))   #abcd\n",
    "print(encode(\"abcd\", 1))   #bcde\n",
    "print(encode(\"abcd\", 5))   #fghi\n",
    "print(encode(\"abcd\", 400)) #klmn\n",
    "\n",
    "print(decode(\"abcd\", 0))   #abcd\n",
    "print(decode(\"bcde\", 1))   #abcd\n",
    "print(decode(\"fghi\", 5))   #abcd\n",
    "print(decode(\"klmn\", 400)) #abcd\n",
    "\n",
    "#Folgende Testfälle sind für die, die schon schneller fertig werden\n",
    "#print(encode(\"Heute ist ein schoener Tag!\", 10)) #Roedo scd osx cmryoxob Dkq!\n",
    "#print(decode(\"Roedo scd osx cmryoxob Dkq!\", 10))"
   ]
  },
  {
   "cell_type": "code",
   "execution_count": 2,
   "metadata": {
    "tags": []
   },
   "outputs": [
    {
     "data": {
      "text/plain": [
       "['a',\n",
       " 'b',\n",
       " 'c',\n",
       " 'd',\n",
       " 'e',\n",
       " 'f',\n",
       " 'g',\n",
       " 'h',\n",
       " 'i',\n",
       " 'j',\n",
       " 'k',\n",
       " 'l',\n",
       " 'm',\n",
       " 'n',\n",
       " 'o',\n",
       " 'p',\n",
       " 'q',\n",
       " 'r',\n",
       " 's',\n",
       " 't',\n",
       " 'u',\n",
       " 'v',\n",
       " 'w',\n",
       " 'x',\n",
       " 'y',\n",
       " 'z']"
      ]
     },
     "execution_count": 2,
     "metadata": {},
     "output_type": "execute_result"
    }
   ],
   "source": [
    "lowerChars = [chr(x) for x in range(97, 123)] #Using ASCII Codes for lower letters\n",
    "lowerChars"
   ]
  },
  {
   "cell_type": "code",
   "execution_count": 6,
   "metadata": {
    "tags": []
   },
   "outputs": [
    {
     "name": "stdout",
     "output_type": "stream",
     "text": [
      "['a', 'b', 'c', 'd']\n",
      "None\n"
     ]
    }
   ],
   "source": [
    "def encode(input : str, k : int) -> str:\n",
    "    elemente=list(input)\n",
    "    print(elemente)\n",
    "\n",
    "print(encode(\"abcd\",1))"
   ]
  },
  {
   "cell_type": "code",
   "execution_count": null,
   "metadata": {},
   "outputs": [],
   "source": []
  }
 ],
 "metadata": {
  "kernelspec": {
   "display_name": "Python 3 (ipykernel)",
   "language": "python",
   "name": "python3"
  },
  "language_info": {
   "codemirror_mode": {
    "name": "ipython",
    "version": 3
   },
   "file_extension": ".py",
   "mimetype": "text/x-python",
   "name": "python",
   "nbconvert_exporter": "python",
   "pygments_lexer": "ipython3",
   "version": "3.11.4"
  },
  "vscode": {
   "interpreter": {
    "hash": "3e8152e6aee2daa82ef9c6dca186ad9f49ea31c3d0b948ef0ee167d461c00ece"
   }
  }
 },
 "nbformat": 4,
 "nbformat_minor": 4
}
