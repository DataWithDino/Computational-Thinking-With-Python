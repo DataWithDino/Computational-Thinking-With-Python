{
 "cells": [
  {
   "cell_type": "markdown",
   "metadata": {},
   "source": [
    "# Übung 060\n",
    "## Computational Thinking\n",
    "Hochschule München, Prof. Dr. Thomas Kofler"
   ]
  },
  {
   "cell_type": "markdown",
   "metadata": {},
   "source": [
    "### Aufgabe 1\n",
    "\n",
    "Schreiben Sie einen Lottozahlen-Generator, der zufällig Zahlen von 1 bis 49 ausgibt. \n",
    "\n",
    "Fragen, die Sie beantworten müssen:\n",
    "* Wie generieren Sie eine Zufallszahl?\n",
    "* Wie stellen Sie sicher, dass diese im gewünschten Zahlbereich ist?\n",
    "* Wie stellen Sie sicher, dass eine gezogene Zahl nur einmal im Ergebnis vorkommt?\n",
    "\n",
    "Stellen Sie sicher, dass\n",
    "* genau sechs Zahlen im Endergebnis vorhanden sind.\n",
    "* Sortieren Sie das Endergebnis aufsteigend.\n",
    "\n",
    "Verwenden Sie als Ausgabe-Datentyp eine Liste mit dem Namen \"lottozahlen\"."
   ]
  },
  {
   "cell_type": "code",
   "execution_count": 7,
   "metadata": {},
   "outputs": [
    {
     "name": "stdout",
     "output_type": "stream",
     "text": [
      "[4, 12, 27, 39, 42, 44]\n"
     ]
    }
   ],
   "source": [
    "#Hier bitte die Lösung eintragen\n",
    "import random\n",
    "random.seed()\n",
    "\n",
    "#Vorgaben\n",
    "#####################################\n",
    "#Das Ergebnis soll in die Variable\n",
    "lottozahlen = []\n",
    "\n",
    "while len(lottozahlen) < 6:\n",
    "    z = random.randint(1, 49)\n",
    "    if z not in lottozahlen:\n",
    "        lottozahlen.append(z)\n",
    "\n",
    "lottozahlen.sort()\n",
    "print(lottozahlen)\n"
   ]
  },
  {
   "cell_type": "markdown",
   "metadata": {},
   "source": [
    "### Aufgabe 2: Professor Ungerechtmann\n",
    "\n",
    "Professor Ungerechtmann braucht ein Programm für die Notenvergabe der Prüfungen. \n",
    "Die Abschlussnote hängt von folgenden Parametern ab:\n",
    "\n",
    "- Die Prüfungsnote (von 1.0 bis 5.0)\n",
    "- Die Augenfarbe (dunkel, hell)\n",
    "- Frisur (kurze Haare, lange Haare)\n",
    "- Wetter (schön, nicht schön)\n",
    "\n",
    "Es gelten folgende Regeln:\n",
    "- Hat der/die Studierende dunkle Augen und\n",
    "    - kurze Haare, so wird die Abschlussnote um 10% erhöht. \n",
    "    - lange Haare, so wird die Abschlussnote um 10% reduziert.\n",
    "- Hat der/die Studierende helle Augen und\n",
    "    - kurze Haare, so wird die Abschlussnote um 10% reduziert.\n",
    "    - lange Haare, so wird die Abschlussnote um 10% erhöht.\n",
    "- Ist das Wetter schön, so wird die Abschlussnote um eine Einheit reduziert.\n",
    "- Die Abschlussnoten müssen ein Element aus folgender Menge sein: [1.0, 1.3, 1.7, 2.0, 2.3, 2.7, 3.0, 3.3, 3.7, 4.0, 5.0]\n",
    "\n",
    "Schreiben Sie eine Funktion, die die Parameter eines Studierenden übernimmt und die Abschlussnote liefert.\n"
   ]
  },
  {
   "cell_type": "code",
   "execution_count": null,
   "metadata": {},
   "outputs": [
    {
     "name": "stdout",
     "output_type": "stream",
     "text": [
      "Eingabenote 5.0\n",
      "Prüfungsnote nach Personeneigenschaften  5.5\n",
      "Prüfungsnote nach der Suche der nähesten Note  5.0\n",
      "Das Wetter ist schön, daher ein 'Step' schlechtere Note.\n",
      "Note wäre noch schlechter als 5 geworden.\n",
      "Eingabenote 1.0\n",
      "Prüfungsnote nach Personeneigenschaften  0.9\n",
      "Prüfungsnote nach der Suche der nähesten Note  1.0\n",
      "Abschlussnote  1.0\n",
      "Eingabenote 2.7\n",
      "Prüfungsnote nach Personeneigenschaften  2.43\n",
      "Prüfungsnote nach der Suche der nähesten Note  2.3\n",
      "Das Wetter ist schön, daher ein 'Step' schlechtere Note.\n",
      "Abschlussnote  2.7\n",
      "Eingabenote 3.3\n",
      "Prüfungsnote nach Personeneigenschaften  2.9699999999999998\n",
      "Prüfungsnote nach der Suche der nähesten Note  3.0\n",
      "Abschlussnote  3.0\n"
     ]
    },
    {
     "data": {
      "text/plain": [
       "3.0"
      ]
     },
     "metadata": {},
     "output_type": "display_data"
    }
   ],
   "source": [
    "#Hier soll Ihr Code stehen\n",
    "\n",
    "def berechneNote(pruefungsnote, augenfarbe, firsur, wetter) -> float:\n",
    "    \"\"\"Diese Funktion berechnet die Note für Prof. Ungerechtmann.\n",
    "       Augenfarbe h oder d\n",
    "       Firsur l oder k\n",
    "       Wetter s oder \"\"\n",
    "    \"\"\"\n",
    "    print(\"Eingabenote\", pruefungsnote)\n",
    "    noten = [1.0, 1.3, 1.7, 2.0, 2.3, 2.7, 3.0, 3.3, 3.7, 4.0, 5.0]\n",
    "    if augenfarbe == \"d\":\n",
    "        if firsur == \"k\": pruefungsnote += pruefungsnote * 0.1\n",
    "        else: pruefungsnote -= pruefungsnote * 0.1\n",
    "    else: #h\n",
    "        if firsur == \"k\": pruefungsnote -= pruefungsnote * 0.1\n",
    "        else: pruefungsnote += pruefungsnote * 0.1\n",
    "\n",
    "    print(\"Prüfungsnote nach Personeneigenschaften \", pruefungsnote)\n",
    "\n",
    "    #Falls die Note aus dem Spektrum fällt \n",
    "    if pruefungsnote > 5.0: pruefungsnote = 5.0\n",
    "    if pruefungsnote < 1.0: pruefungsnote = 1.0\n",
    "\n",
    "    #Suche in den Noten die nächst nähere\n",
    "    for i in range(len(noten)-1):\n",
    "        n1 = noten[i]\n",
    "        n2 = noten[i+1]\n",
    "        if n1 <= pruefungsnote  <= n2:\n",
    "            mrg1 = pruefungsnote - n1\n",
    "            mrg2 = n2 - pruefungsnote\n",
    "            #print(n1, n2, mrg1, mrg2)\n",
    "            #Note suchen, an der man näher dran ist\n",
    "            pruefungsnote = n1 if mrg1 < mrg2 else n2\n",
    "            break\n",
    "    \n",
    "    print(\"Prüfungsnote nach der Suche der nähesten Note \", pruefungsnote)\n",
    "\n",
    "    #Suche die Position der aktuellen Note im Notenspektrum\n",
    "    posDerNote = noten.index(pruefungsnote)\n",
    "\n",
    "    if wetter == \"s\": \n",
    "        print(\"Das Wetter ist schön, daher ein 'Step' schlechtere Note.\")\n",
    "        posDerNote += 1\n",
    "\n",
    "    #Falls die Note schlechter als 5.0 geworden ist\n",
    "    if posDerNote >= len(noten): \n",
    "        print(\"Note wäre noch schlechter als 5 geworden.\")\n",
    "        return noten[len(noten)-1]\n",
    "\n",
    "    #Falls die Note besser als 1.0 geworden ist\n",
    "    #Kann nicht sein, ist nur eingebaut, falls jemand noch eine\n",
    "    #Verbesserung hat, z.B. Regenwetter führt zu besserer Note\n",
    "    if posDerNote < 0: \n",
    "        print(\"Note wäre besser als 1.0 geworden.\")\n",
    "        return noten[0]\n",
    "\n",
    "    print(\"Abschlussnote \", noten[posDerNote])\n",
    "    return noten[posDerNote]\n",
    "\n",
    "berechneNote(5.0, \"h\", \"l\", \"s\")\n",
    "berechneNote(1.0, \"d\", \"l\", \"\")\n",
    "\n",
    "berechneNote(2.7, \"d\", \"l\", \"s\")\n",
    "berechneNote(3.3, \"h\", \"k\", \"\")"
   ]
  },
  {
   "cell_type": "code",
   "execution_count": null,
   "metadata": {},
   "outputs": [
    {
     "name": "stdout",
     "output_type": "stream",
     "text": [
      "5.0\n",
      "1.0\n",
      "3.3\n",
      "3.0\n"
     ]
    },
    {
     "data": {
      "text/plain": [
       "3.0"
      ]
     },
     "metadata": {},
     "output_type": "display_data"
    }
   ],
   "source": [
    "#Hier soll Ihr Code stehen\n",
    "\n",
    "def berechneNote(pruefungsnote, augenfarbe, firsur, wetter) -> float:\n",
    "    \"\"\"Diese Funktion berechnet die Note für Prof. Ungerechtmann. \\n\n",
    "       Augenfarbe h oder d \\n\n",
    "       Firsur l oder k \\n\n",
    "       Wetter s oder \"\"\n",
    "    \"\"\"\n",
    "    if augenfarbe == \"d\":\n",
    "        if firsur == \"l\": pruefungsnote += pruefungsnote * 0.1\n",
    "        else: pruefungsnote -= pruefungsnote * 0.1\n",
    "    else:\n",
    "        if firsur == \"k\": pruefungsnote -= pruefungsnote * 0.1\n",
    "        else: pruefungsnote += pruefungsnote * 0.1\n",
    "    \n",
    "    if pruefungsnote > 5.0: pruefungsnote = 5.0\n",
    "    if pruefungsnote < 1.0: pruefungsnote = 1.0\n",
    "\n",
    "    notenkatalog = [1.0, 1.3, 1.7, 2.0, 2.3, 2.7, 3.0, 3.3, 3.7, 4.0, 5.0]\n",
    "    for i in range(len(notenkatalog)-1):\n",
    "        n1 = notenkatalog[i]\n",
    "        n2 = notenkatalog[i+1]\n",
    "        if n1 <= pruefungsnote <= n2:\n",
    "            mrg1 = pruefungsnote - n1\n",
    "            mrg2 = n2 - pruefungsnote\n",
    "            pruefungsnote = n1 if mrg1 < mrg2 else n2\n",
    "            break\n",
    "    \n",
    "    position = notenkatalog.index(pruefungsnote)\n",
    "    if wetter == \"s\": position += 1\n",
    "    if position >= len(notenkatalog): position = len(notenkatalog) - 1\n",
    "    print(notenkatalog[position]) #Zusätzliche Ausgabe auf der Console\n",
    "    return notenkatalog[position]\n",
    "\n",
    "\n",
    "berechneNote(5.0, \"h\", \"l\", \"s\")\n",
    "berechneNote(1.0, \"d\", \"l\", \"\")\n",
    "\n",
    "berechneNote(2.7, \"d\", \"l\", \"s\")\n",
    "berechneNote(3.3, \"h\", \"k\", \"\")"
   ]
  },
  {
   "cell_type": "markdown",
   "metadata": {},
   "source": [
    "### Aufgabe 3\n",
    "\n",
    "Gegeben ist ist ein Materialstamm eines Unternehmens \"Baumarkt\". \n",
    "\n",
    "Ihre Aufgabe ist es, die Rechnungssumme und die Umsatzsteuer der Bestellung zu berechnen. Die Bestellung enthält neben Angabe des gewünschten Materials auch die Anzahl der gewünschten Materialien. Im Beispiel bedeutet dies, dass bei der Bestellung 15 Schrauben bestellt werden. Der Preis errechnet sich aus den Angaben des Materialstamms. Eine Schraube kostet 1.01 EUR, der Preis enthält 19% Umsatzsteuer. Die Umsatzsteuer ist abhängig vom Material."
   ]
  },
  {
   "cell_type": "code",
   "execution_count": 14,
   "metadata": {},
   "outputs": [
    {
     "name": "stdout",
     "output_type": "stream",
     "text": [
      "Position schraube Anzahl 15 Positionssumme 15.15 Ust 2.42\n",
      "Position hammer Anzahl 2 Positionssumme 25.98 Ust 4.15\n",
      "Position blech Anzahl 8.4 Positionssumme 61.49 Ust 9.82\n",
      "Position buch Anzahl 1 Positionssumme 49.99 Ust 3.7\n",
      "Rechnungssumme: 152.61\n",
      "Umsatzsteuersumme: 20.09\n"
     ]
    }
   ],
   "source": [
    "#Vorgaben\n",
    "######################################\n",
    "#Stammdaten des Unternehmens\n",
    "materialstamm = {\"schraube\" : (1.01, 19), \"blech\" : (7.32, 19), \"holzbrett\" : (76.32, 19), \"hammer\" : (12.99, 19), \"buch\" : (49.99, 8)}\n",
    "\n",
    "#Materialbestellung\n",
    "bestellung = {\"schraube\" : 15, \"hammer\": 2, \"blech\" : 8.4, \"buch\" : 1}\n",
    "\n",
    "#Speichern Sie die Ergebnise in den Variablen\n",
    "rechnungssumme = 0.0\n",
    "umsatzsteuer = 0.0\n",
    "\n",
    "for b in bestellung:\n",
    "    anzahl = bestellung[b]\n",
    "    positionssumme = round(materialstamm[b][0] * anzahl, 2)\n",
    "    positionsUstSumme = round(positionssumme - (positionssumme / (1 + materialstamm[b][1]/100)), 2)\n",
    "    print(\"Position\", b, \"Anzahl\", anzahl, \"Positionssumme\", positionssumme, \"Ust\", positionsUstSumme)\n",
    "    rechnungssumme += positionssumme\n",
    "    umsatzsteuer += positionsUstSumme\n",
    "\n",
    "print(\"Rechnungssumme:\", f\"{rechnungssumme:.2f}\")\n",
    "print(\"Umsatzsteuersumme:\", umsatzsteuer)"
   ]
  },
  {
   "cell_type": "markdown",
   "metadata": {},
   "source": [
    "### Aufgabe 4\n",
    "\n",
    "Wir wollen ein Standardproblem der Informatik lösen. Gegeben ist ein Array mit Ganzzahlen.\n",
    "Gesucht sind zwei Arrays, das erste Array soll nur eindeutige Werte enthalten und das zweite nur die Duplikate, die zwei mal oder öfter in der ersten Liste vorkommen.\n",
    "Beispiel:\n",
    "\n",
    "    [1,2,3,3,3,8,7,2,8] \n",
    "\n",
    "produziert die Ausgabe \n",
    "\n",
    "    [1,2,3,8,7] \n",
    "und \n",
    "\n",
    "    [2,3,8] \n",
    "    \n",
    "Es ist erkennbar, dass die Zahlen 1 und 7 in der Eingabeliste nicht mehrmals vorkommen, diese Zahlen haben daher keine Duplikate und sollen nicht in der zweiten Liste auftauchen. \n"
   ]
  },
  {
   "cell_type": "code",
   "execution_count": 10,
   "metadata": {},
   "outputs": [
    {
     "name": "stdout",
     "output_type": "stream",
     "text": [
      "Eindeutige Werte: [1, 2, 3, 7, 8]\n",
      "Werte mit Duplikate: [2, 3, 8]\n",
      "[1, 2, 3, 7, 8]\n",
      "[2, 3, 8]\n"
     ]
    }
   ],
   "source": [
    "#Hier soll Ihre Lösung stehen\n",
    "#Diese Lösung verwendet nicht die in Python bereits integrierten Hilfsmittel wie z.B. 'in' oder 'count'\n",
    "\n",
    "input = [1,2,3,3,3,8,7,2,8]\n",
    "maxVal = max(input)\n",
    "\n",
    "#Erstellung einer Zählliste, wobei die Zahl als Index verwendet wird\n",
    "countOfVals = [0] * (maxVal + 1) #[0, 1, 2, 3, 0, 0, 0, 1, 2]  #[0, 1, 2, 3, 0, 0, 0, 1, 2]\n",
    "for v in input:                                                # 0  1  2  3  4  5  6  7  8\n",
    "    countOfVals[v] += 1\n",
    "\n",
    "unique = []\n",
    "notunique = []\n",
    "\n",
    "for i in range(len(countOfVals)):\n",
    "    if countOfVals[i] > 1: #hat Duplikate\n",
    "        notunique.append(i)\n",
    "    if countOfVals[i] > 0: #hat überhaupt einen Wert\n",
    "        unique.append(i)\n",
    "\n",
    "print(\"Eindeutige Werte:\", unique)\n",
    "print(\"Werte mit Duplikate:\", notunique)\n",
    "\n",
    "\n",
    "###################################################################################\n",
    "###################################################################################\n",
    "#Lösung mit zwei Schleifen\n",
    "\n",
    "unique = []\n",
    "notunique = []\n",
    "for i in range(len(input)):\n",
    "    zahl = input[i]\n",
    "\n",
    "    #Wenn wir die Zahl noch nicht \"angefasst\" haben\n",
    "    if zahl not in unique:\n",
    "        count = 0\n",
    "        for j in range(len(input)):\n",
    "            if input[j] == zahl: count += 1\n",
    "    \n",
    "        unique.append(zahl)\n",
    "        if count > 1:\n",
    "            notunique.append(zahl)\n",
    "\n",
    "unique.sort()\n",
    "notunique.sort()\n",
    "print(unique)\n",
    "print(notunique)"
   ]
  }
 ],
 "metadata": {
  "kernelspec": {
   "display_name": "Python 3 (ipykernel)",
   "language": "python",
   "name": "python3"
  },
  "language_info": {
   "codemirror_mode": {
    "name": "ipython",
    "version": 3
   },
   "file_extension": ".py",
   "mimetype": "text/x-python",
   "name": "python",
   "nbconvert_exporter": "python",
   "pygments_lexer": "ipython3",
   "version": "3.11.4"
  },
  "vscode": {
   "interpreter": {
    "hash": "3e8152e6aee2daa82ef9c6dca186ad9f49ea31c3d0b948ef0ee167d461c00ece"
   }
  }
 },
 "nbformat": 4,
 "nbformat_minor": 4
}
