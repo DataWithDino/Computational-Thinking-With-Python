{
 "cells": [
  {
   "cell_type": "markdown",
   "metadata": {},
   "source": [
    "# Übung 050b\n",
    "## Computational Thinking\n",
    "Hochschule München, Prof. Dr. Thomas Kofler\n",
    "\n",
    "\n",
    "\n",
    "\n"
   ]
  },
  {
   "cell_type": "markdown",
   "metadata": {},
   "source": [
    "### Aufgabe 2\n",
    "\n",
    "Ein Zahlenschloss besteht aus fünf Ringen. Mit je 10 Möglichkeiten. Von 0 bis 9.\n",
    "\n",
    "Sie haben leider den Code für das Schloss vergessen. Können sich aber an ein paar Einzelheiten erinnern:\n",
    "- Der Code enthält keine 5.\n",
    "- Der Code enthält mindestens einmal die Ziffer 3.\n",
    "- Der Code enthält mindestens einmal die Ziffer 6.\n",
    "- Der Code startet mit einer geraden Zahl. Aber nicht mit der 0.\n",
    "- Der Code ist aufsteigend, das heißt, die vorangegangene Zahl ist kleiner oder gleich der nachfolgenden Zahl. \n",
    "\n",
    "Schreiben Sie ein Programm, das alle verbleibenden Möglichkeiten ausgibt.\n",
    "\n",
    "Hinweis: Sie können eine Zahl mit str(zahl) in einen String konvertieren. Mit der Funktion zfill(5) erreichen Sie, dass der String so lange mit führenden \"0\" aufgefüllt wird, bis dieser die Länge von 5 hat.\n",
    "\n",
    "    print(str(1).zfill(5)) #führt zur Ausgabe 00001"
   ]
  },
  {
   "cell_type": "code",
   "execution_count": 58,
   "metadata": {
    "tags": []
   },
   "outputs": [
    {
     "name": "stdout",
     "output_type": "stream",
     "text": [
      "22236\n",
      "22336\n",
      "22346\n",
      "22366\n",
      "22367\n",
      "22368\n",
      "22369\n",
      "23336\n",
      "23346\n",
      "23366\n",
      "23367\n",
      "23368\n",
      "23369\n",
      "23446\n",
      "23466\n",
      "23467\n",
      "23468\n",
      "23469\n",
      "23666\n",
      "23667\n",
      "23668\n",
      "23669\n",
      "23677\n",
      "23678\n",
      "23679\n",
      "23688\n",
      "23689\n",
      "23699\n"
     ]
    }
   ],
   "source": [
    "for i in range (0,100000):\n",
    "    \n",
    "    comb=str(i).zfill(5)\n",
    "    if(int(comb[0]) % 2 != 0 or int(comb[0])==0):\n",
    "        continue\n",
    "    if \"5\" in comb:\n",
    "        continue\n",
    "    if \"3\" not in comb:\n",
    "        continue\n",
    "    if \"6\" not in comb:\n",
    "        continue\n",
    "    #nur wenn der Zahlenstring aufsteigend ist, soll er geprinted werden\n",
    "    aufsteigend = True\n",
    "    for j in range(4): # range vier, da fünf Ringen [0,1,2,3,4]\n",
    "        if int(comb[j]) > int(comb[j + 1]):\n",
    "            aufsteigend = False\n",
    "            break\n",
    "\n",
    "    if aufsteigend:\n",
    "        print(comb)\n",
    "\n"
   ]
  },
  {
   "cell_type": "code",
   "execution_count": null,
   "metadata": {},
   "outputs": [],
   "source": []
  }
 ],
 "metadata": {
  "kernelspec": {
   "display_name": "Python 3 (ipykernel)",
   "language": "python",
   "name": "python3"
  },
  "language_info": {
   "codemirror_mode": {
    "name": "ipython",
    "version": 3
   },
   "file_extension": ".py",
   "mimetype": "text/x-python",
   "name": "python",
   "nbconvert_exporter": "python",
   "pygments_lexer": "ipython3",
   "version": "3.11.4"
  },
  "vscode": {
   "interpreter": {
    "hash": "3e8152e6aee2daa82ef9c6dca186ad9f49ea31c3d0b948ef0ee167d461c00ece"
   }
  }
 },
 "nbformat": 4,
 "nbformat_minor": 4
}
