{
 "cells": [
  {
   "cell_type": "markdown",
   "metadata": {},
   "source": [
    "# Übung 080a\n",
    "## Computational Thinking\n",
    "Hochschule München, Prof. Dr. Thomas Kofler"
   ]
  },
  {
   "cell_type": "markdown",
   "metadata": {},
   "source": [
    "### Aufgabe 1\n",
    "\n",
    "Schreiben Sie ein Programm, das sich durch die Eingabe von Befehlen steuern lässt.\n",
    "\n",
    "Sie sollen eine Kontaktverwaltung entwickeln, die in der Lage ist, eine beliebige Anzahl von Kontakten zu verwalten. \n",
    "Die für den Benutzer angebotenen Funktionen sind\n",
    "- Kontakt hinzufügen\n",
    "- Alle Kontakte anzeigen\n",
    "- Kontakt löschen\n",
    "\n",
    "**Hinweis:** Ein Kontakt weist einen Namen und eine E-Mail-Adresse auf.\n",
    "\n",
    "Das Programm kann z.B. initial folgendes anzeigen:\n",
    "\n",
    "    1 ... Kontakt hinzufügen\n",
    "    2 ... Alle Kontakte anzeigen\n",
    "    3 ... Kontakt löschen\n",
    "\n",
    "Der Benutzer wählt dann, mittels Zahleneingabe, eine Funktion, finden Sie eine Möglichkeit, die gewünschte Funktionalität anzubieten.\n",
    "\n",
    "**Weiterer Hinweis:** Verwenden Sie Klassen bei der Realisierung.\n"
   ]
  },
  {
   "cell_type": "code",
   "execution_count": 19,
   "metadata": {},
   "outputs": [
    {
     "name": "stdout",
     "output_type": "stream",
     "text": [
      "Name: Dino, PhoneNumber: 1234, Email: abc\n",
      "Name: Mina, PhoneNumber: 12345, Email: abc\n",
      "The contact was found and deleted\n",
      "Name: Mina, PhoneNumber: 12345, Email: abc\n",
      "Contacts found:\n",
      "Name: Mina, PhoneNumber: 12345, Email: abc\n",
      "Contact is edited:\n",
      "Name: Dinova Ljubav, PhoneNumber: 12345, Email: abc\n"
     ]
    }
   ],
   "source": [
    "#Hier sollte Ihre Lösung stehen.\n",
    "#Speichern Sie diese als .py-Datei und führen Sie das Programm auf der Konsole aus.\n",
    "class Contact:\n",
    "        def __init__ (self, name, phonenumber, email):\n",
    "                self.name=name\n",
    "                self.phonenumber=phonenumber\n",
    "                self.email=email\n",
    "\n",
    "        def display(self):\n",
    "                return f\"Name: {self.name}, PhoneNumber: {self.phonenumber}, Email: {self.email}\"\n",
    "        \n",
    "\n",
    "class Rubric:\n",
    "        def __init__(self):\n",
    "                self.contacts=[]\n",
    "\n",
    "        def createContact(self, contact):\n",
    "                self.contacts.append(contact)\n",
    "        \n",
    "        def deleteContact(self, name):\n",
    "                for contact in self.contacts:\n",
    "                        if contact.name == name:\n",
    "                                self.contacts.remove(contact)\n",
    "                                print(\"The contact was found and deleted\")\n",
    "                                return\n",
    "                print(\"Name not found!\")\n",
    "        \n",
    "        def findContact(self,name_or_number):\n",
    "                foundContacts=[]\n",
    "                for contact in self.contacts:\n",
    "                        if name_or_number in contact.name or name_or_number in contact.number:\n",
    "                                foundContacts.append(contact)\n",
    "                if foundContacts==\"\":\n",
    "                        print(\"No contacts found\")\n",
    "                else:\n",
    "                        print(\"Contacts found:\")\n",
    "                        for contact in foundContacts:\n",
    "                                print(contact.display())\n",
    "                        \n",
    "        \n",
    "        def editContact(self,name,new_name):\n",
    "                for contact in self.contacts:\n",
    "                        if contact.name == name:\n",
    "                                contact.name=new_name\n",
    "                                print(\"Contact is edited:\")\n",
    "                                print(contact.display())\n",
    "                                return \n",
    "                print(\"Contact not found!\")\n",
    "\n",
    "        def display(self):\n",
    "                for contact in self.contacts:\n",
    "                        print(contact.display())\n",
    "\n",
    "                        \n",
    "contact1 = Contact(\"Dino\", \"1234\", \"abc\")\n",
    "contact2 = Contact(\"Mina\", \"12345\", \"abc\")\n",
    "\n",
    "rubric = Rubric()\n",
    "rubric.createContact(contact1)\n",
    "rubric.createContact(contact2)\n",
    "\n",
    "rubric.display()\n",
    "\n",
    "rubric.deleteContact(\"Dino\")\n",
    "rubric.display()\n",
    "rubric.findContact(\"Mina\")\n",
    "rubric.editContact(\"Mina\",\"Dinova Ljubav\")"
   ]
  }
 ],
 "metadata": {
  "kernelspec": {
   "display_name": "Python 3 (ipykernel)",
   "language": "python",
   "name": "python3"
  },
  "language_info": {
   "codemirror_mode": {
    "name": "ipython",
    "version": 3
   },
   "file_extension": ".py",
   "mimetype": "text/x-python",
   "name": "python",
   "nbconvert_exporter": "python",
   "pygments_lexer": "ipython3",
   "version": "3.11.4"
  },
  "vscode": {
   "interpreter": {
    "hash": "3e8152e6aee2daa82ef9c6dca186ad9f49ea31c3d0b948ef0ee167d461c00ece"
   }
  }
 },
 "nbformat": 4,
 "nbformat_minor": 4
}
