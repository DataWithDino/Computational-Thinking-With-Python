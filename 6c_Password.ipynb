{
 "cells": [
  {
   "cell_type": "markdown",
   "metadata": {},
   "source": [
    "# Übung 065a\n",
    "## Computational Thinking\n",
    "Hochschule München, Prof. Dr. Thomas Kofler\n",
    "\n",
    "\n",
    "\n",
    "\n"
   ]
  },
  {
   "cell_type": "markdown",
   "metadata": {},
   "source": [
    "### Aufgabe 1\n",
    "\n",
    "Entwickeln Sie einen Passwort-Generator.\n",
    "\n",
    "Der Passwort-Generator hat folgende Optionen, die der Verwender angeben kann:\n",
    "* Länge des Passworts (von 0 bis n)\n",
    "* Verwendung von Großbuchstaben (True oder False)\n",
    "* Verwendung von Kleinbuchstaben (True oder False)\n",
    "* Angabe von Zeichen, die nicht vorkommen sollen (z.B. ['l',1,0,'O'] um eine Verwechslung auszuschließen).\n",
    "\n",
    "Folgende weitere Anforderungen sind nur für die Schnellen und sind optional:\n",
    "* Ein Nutzer des Passwort-Generators soll weiter die Möglichkeiten haben, eine Menge von Zeichen mitzugeben, die zusätzlich möglich sind (z.B. Sonderzeichen).\n",
    "* Es soll die Möglichkeit geben, nach einer beliebigen Anzahl von Stellen (*sepNr*) ein Trennzeichen einzufügen (zur Erhöhung der Lesbarkeit), wobei *sepNr* die Anzahl der Stellen (bei 0 kein Trennzeichen) und *sep* das verwendete Trennzeichen ist.\n",
    "\n",
    "\n",
    "Werden weder Groß- noch Kleinbuchstaben gewählt, besteht das Passwort nur aus Zahlen.\n"
   ]
  },
  {
   "cell_type": "code",
   "execution_count": 61,
   "metadata": {},
   "outputs": [
    {
     "name": "stdout",
     "output_type": "stream",
     "text": [
      "%$$f-%2u%6R4\n",
      "o%5%-ibw$ki\n",
      "%6%-$HY$\n"
     ]
    }
   ],
   "source": [
    "import random\n",
    "import math\n",
    "import string\n",
    "random.seed()\n",
    "lowerCase = string.ascii_lowercase #String with all lower case letters\n",
    "upperCase = string.ascii_uppercase #String with all upper case letters\n",
    "numbers = string.digits                   #String with numbers, from 0 to 9\n",
    "\n",
    "#Funktions-Stub \n",
    "def generatePassword(length: int, upperCaseLetters : bool, lowerCaseLetters : bool, excludeChars : list[str] = [], additionalCharSet : list = [], sepNr = 0, sep = \"-\") -> str:\n",
    "    password=\"\"\n",
    "    for i in range(length):\n",
    "        if(i==sepNr-1 and i!=0):\n",
    "            password+=sep\n",
    "            continue\n",
    "        ent=random.randint(1,4)\n",
    "        if ent==1:\n",
    "            if(upperCaseLetters==True):                \n",
    "                zeichen=upperCase[random.randint(0,len(upperCase)-1)]\n",
    "                if zeichen in excludeChars:\n",
    "                    i-=1\n",
    "                    continue\n",
    "                else:\n",
    "                    password+=zeichen\n",
    "            else:\n",
    "                i-=1\n",
    "        if ent==2:    \n",
    "            if(lowerCaseLetters==True):\n",
    "                zeichen=lowerCase[random.randint(0,len(lowerCase)-1)]\n",
    "                if zeichen in excludeChars:\n",
    "                    i-=1\n",
    "                    continue\n",
    "                else:\n",
    "                    password+=zeichen\n",
    "            else:\n",
    "                i-=1\n",
    "        if ent==3:\n",
    "            zeichen=random.randint(0,9)\n",
    "            if str(zeichen) in excludeChars:\n",
    "                i-=1\n",
    "                continue\n",
    "            else:\n",
    "                password+=str(zeichen)\n",
    "        if ent==4:\n",
    "            z=random.randint(0,len(additionalCharSet)-1)\n",
    "            zeichen=additionalCharSet[z]\n",
    "            password+=zeichen\n",
    "            \n",
    "    return password\n",
    "\n",
    "\n",
    "\n",
    "print(generatePassword(12, True, True, excludeChars=[\"I\",\"l\",\"1\"], additionalCharSet= [\"$\",\"%\"], sepNr=5, sep=\"-\"))\n",
    "print(generatePassword(12, False, True, excludeChars=[\"I\",\"l\",\"1\"], additionalCharSet= [\"$\",\"%\"], sepNr=5, sep=\"-\"))\n",
    "print(generatePassword(12, True, False, excludeChars=[\"I\",\"l\",\"1\"], additionalCharSet= [\"$\",\"%\"], sepNr=5, sep=\"-\"))\n",
    "\n"
   ]
  },
  {
   "cell_type": "code",
   "execution_count": 62,
   "metadata": {},
   "outputs": [
    {
     "name": "stdout",
     "output_type": "stream",
     "text": [
      "2\n"
     ]
    }
   ],
   "source": [
    "import random\n",
    "a=random.randint(1,3)\n",
    "print(a)"
   ]
  },
  {
   "cell_type": "code",
   "execution_count": 40,
   "metadata": {},
   "outputs": [
    {
     "name": "stdout",
     "output_type": "stream",
     "text": [
      "0\n",
      "1\n",
      "2\n",
      "3\n",
      "4\n"
     ]
    }
   ],
   "source": [
    "for i in range(5):\n",
    "    print(i)"
   ]
  },
  {
   "cell_type": "code",
   "execution_count": 60,
   "metadata": {
    "tags": []
   },
   "outputs": [
    {
     "data": {
      "text/plain": [
       "2"
      ]
     },
     "execution_count": 60,
     "metadata": {},
     "output_type": "execute_result"
    }
   ],
   "source": [
    "Liste=[\"q\",\"q\"]\n",
    "len(Liste)"
   ]
  },
  {
   "cell_type": "code",
   "execution_count": 78,
   "metadata": {
    "tags": []
   },
   "outputs": [
    {
     "name": "stdout",
     "output_type": "stream",
     "text": [
      "vDSe-H$Hk3rc%\n",
      "%%-ag26%$\n",
      "$YN-%E$V9$$\n"
     ]
    }
   ],
   "source": [
    "import random\n",
    "import string\n",
    "\n",
    "def generate_password(length, use_uppercase, use_lowercase, exclude_chars=[], additional_char_set=[], sep_nr=0, sep=''):\n",
    "    # Basiszeichen für Zahlen\n",
    "    base_chars = string.digits\n",
    "    \n",
    "    # Zeichen für Großbuchstaben hinzufügen, falls gewünscht\n",
    "    if use_uppercase:\n",
    "        base_chars += string.ascii_uppercase\n",
    "\n",
    "    # Zeichen für Kleinbuchstaben hinzufügen, falls gewünscht\n",
    "    if use_lowercase:\n",
    "        base_chars += string.ascii_lowercase\n",
    "\n",
    "    # Zeichen, die ausgeschlossen werden sollen, entfernen\n",
    "    base_chars = [char for char in base_chars if char not in exclude_chars]\n",
    "\n",
    "    # Zeichen für zusätzliche Sonderzeichen hinzufügen\n",
    "    base_chars += additional_char_set\n",
    "\n",
    "    # Passwort generieren\n",
    "    password = ''\n",
    "    for i in range(length):\n",
    "        if i == sep_nr and i != 0:\n",
    "            password += sep\n",
    "        else:\n",
    "            password += random.choice(base_chars)\n",
    "\n",
    "    return password\n",
    "\n",
    "\n",
    "\n",
    "\n",
    "print(generatePassword(12, True, True, excludeChars=[\"I\",\"l\",\"1\"], additionalCharSet= [\"$\",\"%\"], sepNr=5, sep=\"-\"))\n",
    "print(generatePassword(12, False, True, excludeChars=[\"I\",\"l\",\"1\"], additionalCharSet= [\"$\",\"%\"], sepNr=5, sep=\"-\"))\n",
    "print(generatePassword(12, True, False, excludeChars=[\"I\",\"l\",\"1\"], additionalCharSet= [\"$\",\"%\"], sepNr=5, sep=\"-\"))\n"
   ]
  },
  {
   "cell_type": "code",
   "execution_count": null,
   "metadata": {},
   "outputs": [],
   "source": []
  },
  {
   "cell_type": "code",
   "execution_count": null,
   "metadata": {},
   "outputs": [],
   "source": []
  }
 ],
 "metadata": {
  "kernelspec": {
   "display_name": "Python 3 (ipykernel)",
   "language": "python",
   "name": "python3"
  },
  "language_info": {
   "codemirror_mode": {
    "name": "ipython",
    "version": 3
   },
   "file_extension": ".py",
   "mimetype": "text/x-python",
   "name": "python",
   "nbconvert_exporter": "python",
   "pygments_lexer": "ipython3",
   "version": "3.11.4"
  },
  "vscode": {
   "interpreter": {
    "hash": "3e8152e6aee2daa82ef9c6dca186ad9f49ea31c3d0b948ef0ee167d461c00ece"
   }
  }
 },
 "nbformat": 4,
 "nbformat_minor": 4
}
