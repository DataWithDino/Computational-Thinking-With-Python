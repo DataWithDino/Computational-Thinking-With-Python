{
 "cells": [
  {
   "cell_type": "markdown",
   "metadata": {},
   "source": [
    "# Übung 090\n",
    "## Computational Thinking\n",
    "Hochschule München, Prof. Dr. Thomas Kofler"
   ]
  },
  {
   "cell_type": "markdown",
   "metadata": {},
   "source": [
    "### Aufgabe 1: Sudoku\n",
    "\n",
    "Schreiben Sie ein Programm, das prüft, ob ein Sudoku richtig gelöst wurde.\n",
    "\n",
    "- Ein Sudoku-Spielfeld besteht aus 9x9-Feldern. \n",
    "- In jedem Feld ist eine Zahl zwischen 1 und 9 eingetragen.\n",
    "\n",
    "#### Regeln:\n",
    "- In jeder Zeile darf eine Zahl nur einmal auftreten.\n",
    "- In jeder Spalte darf eine Zahl nur einmal auftreten.\n",
    "- Das 9x9 Spielfeld wird in 9 (3 Felder x 3 Felder)-Blöcke aufgesplittet. In jedem dieser 3x3-Blöcke, darf jede Zahl nur einmal vorkommen.\n",
    "\n",
    "#### Aufgabe:\n",
    "Schreiben Sie ein Programm, das ausgibt, ob ein Sudoku richtig gelöst wurde.\n",
    "Falls das nicht der Fall ist, soll ausgegeben werden, in welcher Zeile, Spalte und/oder Block der Fehler aufgetreten ist.\n",
    "\n",
    "**Hinweis:** Versuchen Sie das Problem in Teilprobleme zu zerlegen, z.B. eine Funktion, die eine bestimmte Zeile prüft, eine Funktion die eine bestimmte Spalte prüft. Eine Funktion, die ein 3x3-Feld prüft. "
   ]
  },
  {
   "cell_type": "code",
   "execution_count": 13,
   "metadata": {},
   "outputs": [
    {
     "data": {
      "text/plain": [
       "False"
      ]
     },
     "execution_count": 13,
     "metadata": {},
     "output_type": "execute_result"
    }
   ],
   "source": [
    "sudokuFeld = [\n",
    "    [5, 3, 4, 6, 7, 8, 9, 1, 2],\n",
    "    [6, 7, 2, 1, 9, 5, 3, 4, 8],\n",
    "    [1, 9, 8, 3, 4, 2, 5, 6, 7],\n",
    "    [8, 5, 9, 7, 6, 1, 4, 2, 3],\n",
    "    [4, 2, 6, 8, 5, 3, 7, 9, 1],\n",
    "    [7, 1, 3, 9, 2, 4, 8, 5, 6],\n",
    "    [9, 6, 1, 5, 3, 7, 2, 8, 4],\n",
    "    [2, 8, 7, 4, 1, 9, 6, 3, 5],\n",
    "    [3, 4, 5, 2, 8, 6, 1, 7, 9]\n",
    "    ]\n",
    "\n",
    "def IsValidSudoku(board) -> bool:\n",
    "    \"\"\"\n",
    "    Check if a given sudoku board is valid.\n",
    "    A sudoku board is valid if:\n",
    "    - Each row contains each number exactly once.\n",
    "    - Each column contains each number exactly once.\n",
    "    - Each 3x3 sub-box contains each number exactly once.\n",
    "    \"\"\"\n",
    "    # Check each row\n",
    "    for row in board:\n",
    "        if len(set(row)) != 9: #sets only contain unique values\n",
    "            return False\n",
    "\n",
    "    # Check each column\n",
    "    for col in range(9):\n",
    "        if len(set(board[row][col] for row in range(9))) != 9:\n",
    "            return False\n",
    "\n",
    "    # Check each 3x3 sub-box\n",
    "    for i in range(0, 9, 3):\n",
    "        for j in range(0, 9, 3):\n",
    "            box = [board[x][y] for x in range(i, i + 3) for y in range(j, j + 3)]\n",
    "            if len(set(box)) != 9:\n",
    "                return False\n",
    "\n",
    "    return True\n",
    "    \n",
    "IsValidSudoku(sudokuFeld)"
   ]
  },
  {
   "cell_type": "code",
   "execution_count": 16,
   "metadata": {},
   "outputs": [
    {
     "name": "stdout",
     "output_type": "stream",
     "text": [
      "0\n",
      "1\n",
      "2\n",
      "3\n",
      "4\n",
      "5\n",
      "6\n",
      "7\n",
      "8\n"
     ]
    }
   ],
   "source": [
    "for i in range(len(sudokuFeld)):\n",
    "    print(i)"
   ]
  }
 ],
 "metadata": {
  "kernelspec": {
   "display_name": "Python 3 (ipykernel)",
   "language": "python",
   "name": "python3"
  },
  "language_info": {
   "codemirror_mode": {
    "name": "ipython",
    "version": 3
   },
   "file_extension": ".py",
   "mimetype": "text/x-python",
   "name": "python",
   "nbconvert_exporter": "python",
   "pygments_lexer": "ipython3",
   "version": "3.9.6"
  },
  "vscode": {
   "interpreter": {
    "hash": "3e8152e6aee2daa82ef9c6dca186ad9f49ea31c3d0b948ef0ee167d461c00ece"
   }
  }
 },
 "nbformat": 4,
 "nbformat_minor": 4
}
