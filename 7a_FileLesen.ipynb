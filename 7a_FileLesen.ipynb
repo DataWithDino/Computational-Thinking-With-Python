{
 "cells": [
  {
   "cell_type": "markdown",
   "metadata": {},
   "source": [
    "# Übung 070a\n",
    "## Computational Thinking\n",
    "Hochschule München, Prof. Dr. Thomas Kofler"
   ]
  },
  {
   "cell_type": "markdown",
   "metadata": {},
   "source": [
    "### Aufgabe 1\n",
    "\n",
    "Entwerfen Sie einen Algorithmus, der einen beliebig langen Text verschüsselt. Wir begnügen uns mit einer einfachen Verschlüsselung, indem wir wir jeden Buchstaben jedes Wortes in umgekehrter Reihenfolge als Code ausgeben. Es wird daher nicht der gesamte Text *einfach* umgedreht, sondern jedes Wort im Text separat. Leerzeichen im Eingabetext müssen herausgefiltert werden.\n",
    "\n",
    "Beispiel:\n",
    "\n",
    "    \"Dies ist              ein                 Eingabetext\"\n",
    "\n",
    "führt zur Ausgabe:\n",
    "\n",
    "    \"seiD tsi nie txetebagniE\"\n",
    "\n",
    "Denken Sie daran, was wir in schrittweiser Verfeinerung disktuiert haben. Brechen Sie das Problem in Teilprobleme.\n"
   ]
  },
  {
   "cell_type": "code",
   "execution_count": 18,
   "metadata": {},
   "outputs": [
    {
     "name": "stdout",
     "output_type": "stream",
     "text": [
      "oniD ilov ujovs ukjoved\n"
     ]
    }
   ],
   "source": [
    "#Hier sollte Ihre Lösung stehen\n",
    "eing = \"Dino voli               svoju              devojku\"\n",
    "\n",
    "def encrypt(input : str) -> str :\n",
    "    result=\"\"  \n",
    "    decode=\"\"\n",
    "    for letter in input: \n",
    "        if(letter==\" \"): #wenn Leer-Zeichen auftritt\n",
    "            if decode:  #und wenn decode existiert dann anheften von decode invertiert \n",
    "                result+= decode[::-1] \n",
    "                result+=\" \"\n",
    "                decode=\"\"\n",
    "        else:    \n",
    "            decode+=letter\n",
    "\n",
    "    result+=decode[::-1]\n",
    "    return result\n",
    "      \n",
    "\n",
    "print(encrypt(eing))"
   ]
  },
  {
   "cell_type": "markdown",
   "metadata": {},
   "source": [
    "### Aufgabe 2\n",
    "\n",
    "Lesen Sie die Datei \"CT_Übung_070_Technologien.txt\" ein. Sehen Sie sich die Datei in einem Text-Editor an. Sie stellen fest, dass die Datei **Abschnitte** enthält, diese Abschnitte werden mit vorangestellten **\\*** eingeleitet. Nach jedem Abschnitt werden Technologien angeführt. Ihre Aufgabe ist es, die Technologien nach den Abschnittnamen zu clustern. \n",
    "\n",
    "Lesen Sie die Text-Datei ein und erstellen Sie ein *Dictionary*, das den Namen des Clusters (z.B. Basic Concepts) als *Schlüssel* und jeweils alle darunter liegenden Technologien als *Werte* enthält.\n",
    "\n",
    "Achten Sie darauf, keine leeren Zeichenketten importiert werden.\n",
    "\n",
    "Sie können eine Datei öffnen, indem Sie folgendes tun:\n",
    "\n",
    "    datei = open(\"CT_Übung_070_Technologien.txt\", \"r\") #Öffnen einer Datei im Lesemodus\n",
    "    for zeile in datei:\n",
    "        print(zeile) #Ausgabe des Dateiinhaltes\n",
    "    datei.close() #Schließen der Datei\n",
    "\n",
    "    \n"
   ]
  },
  {
   "cell_type": "code",
   "execution_count": 26,
   "metadata": {},
   "outputs": [
    {
     "data": {
      "text/plain": [
       "{'Basic Concepts': ['RFID',\n",
       "  'QR Code',\n",
       "  'Barcodes in General (without QR)',\n",
       "  'Mobile App (Smartphone, Tablet)',\n",
       "  'Device-to-Device-Communication Forms',\n",
       "  'Hash-Algorithm',\n",
       "  'JSON',\n",
       "  'Cybersecurity',\n",
       "  'Digital Certificate and TLS/SSL',\n",
       "  'Symmetric and Asymmetric Encryption'],\n",
       " 'Cloud Concepts': ['Public Cloud',\n",
       "  'Private Cloud',\n",
       "  'Hybrid Cloud',\n",
       "  'Software as a Service',\n",
       "  'Software-defined Security',\n",
       "  'Software defined Network',\n",
       "  'Serverless Function (e.g. AWS Lambda)',\n",
       "  'Plattform as a Service: e.g. AWS Elastic Beanstalk',\n",
       "  'Single Board Computer',\n",
       "  'Docker Container',\n",
       "  'Enterprise Service Bus',\n",
       "  'Container Management System (e.g. Kubernetes / OpenShift)',\n",
       "  'Hypervisor',\n",
       "  'Message Broker',\n",
       "  'Monitoring System (e.g. Prometheus)',\n",
       "  'Identity and Access Management (OpenId Connect)'],\n",
       " 'App Concepts': ['REST API',\n",
       "  'Non REST APIs',\n",
       "  'API Gateway',\n",
       "  'Angular',\n",
       "  'Asp.Net Core (Server-side) Blazor',\n",
       "  'Web Assembly',\n",
       "  'Progressive Web App',\n",
       "  'Web Application',\n",
       "  'Web Socket',\n",
       "  'Widget / Micro-App',\n",
       "  'Modern \"Terminal\" Apps (Client-Server-Apps)',\n",
       "  'Touchscreen (Stand-alone)',\n",
       "  'Microservices (Focus Architecture)',\n",
       "  'Cloud-native Application',\n",
       "  'Event-driven Architecture'],\n",
       " 'Wearable Concepts': ['Enterprise Wearable',\n",
       "  'Consumer Wearable',\n",
       "  'Smart Glasses'],\n",
       " 'AI Concepts': ['AI without Machine Learing',\n",
       "  'Machine Learning',\n",
       "  'AI as a Service (e.g. Microsoft Cognitive Services)'],\n",
       " 'Information System Concepts': ['Customer Relationship Management',\n",
       "  'Enterprise Resource Planning',\n",
       "  'Data-centric Internet Platform',\n",
       "  'Transaction-based Platform'],\n",
       " 'Visualization Concepts': ['2D Game Engine',\n",
       "  '3D Game Engine',\n",
       "  'GraphViz',\n",
       "  'Virtual Reality',\n",
       "  'Dashboard Solutions (e.g. Grafana)'],\n",
       " 'Programming Concepts': ['Git / Github - Version Control',\n",
       "  'Online Integrated Development Environment',\n",
       "  'Automation Server (e.g. Jenkins)'],\n",
       " 'Automation Concepts': ['Robotic Process Automation',\n",
       "  'Business Intelligence Solution',\n",
       "  'Online Collaboration Platform',\n",
       "  'Workflow Engine',\n",
       "  'Robotic',\n",
       "  'Speech Assistance',\n",
       "  'Instant Messaging',\n",
       "  'Social Bot',\n",
       "  'Web Bot'],\n",
       " 'Industrial Internet Concepts': ['Internet of Things',\n",
       "  'Edge Computing',\n",
       "  'Mesh Computing',\n",
       "  'Digital Twin',\n",
       "  'IoT-Platform (e.g. Azure IoT Hub)',\n",
       "  '3D Printer',\n",
       "  'Drone (Industrial Context)'],\n",
       " 'Data-Management Concepts': ['In-memory Database',\n",
       "  'Relational Database',\n",
       "  'Data Warehouse',\n",
       "  'Blockchain',\n",
       "  'Data Lake',\n",
       "  'NoSQL-Database',\n",
       "  'Data Stream Processing'],\n",
       " 'Corporate Generic Concepts': ['Gamification',\n",
       "  'Digital Customer Touchpoint',\n",
       "  'Online Workplace',\n",
       "  'Microlearning Concepts',\n",
       "  'Digital Social Engineering',\n",
       "  'Intelligent Product/Service',\n",
       "  '(Digital) Human Augmentation',\n",
       "  'Video/Audio Casts']}"
      ]
     },
     "execution_count": 26,
     "metadata": {},
     "output_type": "execute_result"
    }
   ],
   "source": [
    "file_path = \"/Users/dino.dervisevic/Desktop/CompThink/Übung/CT_Ãbung070_Technologien.txt\"\n",
    "clusters = {}  # Das Dictionary, um die Clusters und ihre Technologien zu speichern\n",
    "current_cluster = None  # Der aktuelle Cluster, den wir verarbeiten\n",
    "\n",
    "with open(file_path, \"r\", encoding=\"utf-8\") as file:\n",
    "    for line in file:\n",
    "        line = line.strip()  # Entferne Leerzeichen und Zeilenumbrüche am Anfang und Ende der Zeile\n",
    "\n",
    "        if line.startswith(\"*\"):#creating the key-index\n",
    "            current_cluster = line.replace(\"*\",\"\").strip()  # Entferne das vorangestellte *\n",
    "            clusters[current_cluster] = []  # Füge ein leeres Array als Wert für den Cluster hinzu\n",
    "        elif line and current_cluster:  # Wenn die Zeile nicht leer ist und ein aktueller Cluster vorhanden ist\n",
    "            clusters[current_cluster].append(line)  # Füge die Technologie zum aktuellen Cluster hinzu\n",
    "\n",
    "clusters"
   ]
  },
  {
   "cell_type": "code",
   "execution_count": null,
   "metadata": {},
   "outputs": [],
   "source": []
  }
 ],
 "metadata": {
  "kernelspec": {
   "display_name": "Python 3 (ipykernel)",
   "language": "python",
   "name": "python3"
  },
  "language_info": {
   "codemirror_mode": {
    "name": "ipython",
    "version": 3
   },
   "file_extension": ".py",
   "mimetype": "text/x-python",
   "name": "python",
   "nbconvert_exporter": "python",
   "pygments_lexer": "ipython3",
   "version": "3.11.4"
  },
  "vscode": {
   "interpreter": {
    "hash": "3e8152e6aee2daa82ef9c6dca186ad9f49ea31c3d0b948ef0ee167d461c00ece"
   }
  }
 },
 "nbformat": 4,
 "nbformat_minor": 4
}
