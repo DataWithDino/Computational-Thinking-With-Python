{
 "cells": [
  {
   "cell_type": "markdown",
   "metadata": {},
   "source": [
    "# Übung 040\n",
    "## Computational Thinking\n",
    "Hochschule München, Prof. Dr. Thomas Kofler\n",
    "\n",
    "\n",
    "\n",
    "\n"
   ]
  },
  {
   "cell_type": "markdown",
   "metadata": {},
   "source": [
    "### Aufgabe 1\n",
    "\n",
    "Implementieren Sie ein Python-Programm, das zwei Winkel (alpha und beta) in Form von Graden, Minuten und Sekunden einliest und deren Summe berechnet und wieder ausgibt. \n",
    "\n",
    "Die Ausgabe soll wie folgt aussehen:\n",
    "\n",
    "    alpha =  34 Grad, 12 Minuten,  3 Sekunden\n",
    "    beta  = 105 Grad, 15 Minuten, 59 Sekunden\n",
    "    -----------------------------------------\n",
    "    Summe = 139 Grad, 28 Minuten,  2 Sekunden\n",
    "\n",
    "\n",
    "Achten Sie darauf, dass die Grade, Minuten, usw. so untereinander stehen, dass die Einheit gleich ausgerichtet ist.\n",
    "\n",
    "**Achtung**: Minuten und Sekunden haben einen Maximalwert von 59. Das heißt, z.B. sobald 60 Sekunden erreicht wird, werden die Sekunden wieder auf 0 gesetzt und die Minuten um 1 erhöht.\n",
    "\n",
    "**Hinweis:** Die Länge einer Zeichenkette können Sie mit der Funktion *len(\"str\")* bestimmen. Weiter können Sie auf einen String die Funktion *zfill(5)* ausführen. Dies führt dazu, dass ein String mit führenden \"0\" ausgefüllt wird, bis die gewünschte Länge erreicht ist. Ein String weißt auch eine Funktion *rjust(10)* aus, die eine Zeichenkette rechts ausrichtet. Wobei der Parameter *10* aussagt, dass innerhalb von 10 Leerzeichen ausgerichtet wird. Testen Sie diese Funktionen, bevor Sie sie verwenden. Hinweis: Es gibt auch *ljust*.\n",
    "\n",
    "\n"
   ]
  },
  {
   "cell_type": "code",
   "execution_count": 9,
   "metadata": {},
   "outputs": [
    {
     "name": "stdout",
     "output_type": "stream",
     "text": [
      "alpha =  34 Grad, 12 Minuten,  3 Sekunden\n",
      "beta  = 105 Grad, 15 Minuten, 59 Sekunden\n",
      "-----------------------------------------\n",
      "Summe = 139 Grad, 28 Minuten,  2 Sekunden\n"
     ]
    }
   ],
   "source": [
    "#Hier soll Ihre Lösung stehen\n",
    "\n",
    "a_grad = 34\n",
    "a_min = 12\n",
    "a_sec = 3\n",
    "\n",
    "b_grad = 105\n",
    "b_min = 15\n",
    "b_sec = 59\n",
    "\n",
    "def createOutputLine(name, grad, min, sec):\n",
    "    outputStr = name.ljust(5) + \" = \" + str(grad).rjust(3) + \" Grad, \" + str(min).rjust(2) + \" Minuten, \" + str(sec).rjust(2) + \" Sekunden\"\n",
    "    return outputStr\n",
    "\n",
    "lineAlpha = createOutputLine(\"alpha\", a_grad, a_min, a_sec)\n",
    "print(lineAlpha)\n",
    "print(createOutputLine(\"beta\", b_grad, b_min, b_sec))\n",
    "print(\"-\" * len(lineAlpha))\n",
    "\n",
    "def addBase60(a, b):\n",
    "    c = a + b\n",
    "    val = c // 60\n",
    "    rest = c % 60\n",
    "    return val, rest\n",
    "\n",
    "def addVals(grad1, min1, sec1, grad2, min2, sec2):\n",
    "    uebertrag, secRest = addBase60(sec1, sec2)\n",
    "    uebertrag, minRest = addBase60(uebertrag + min1, min2)\n",
    "    gradVal = grad1 + uebertrag + grad2\n",
    "    return gradVal, minRest, secRest\n",
    "\n",
    "c_grad, c_min, c_sec = addVals(a_grad, a_min, a_sec, b_grad, b_min, b_sec)\n",
    "print(createOutputLine(\"Summe\", c_grad, c_min, c_sec))\n"
   ]
  },
  {
   "cell_type": "code",
   "execution_count": 1,
   "metadata": {},
   "outputs": [
    {
     "name": "stdout",
     "output_type": "stream",
     "text": [
      "alpha =  34 Grad 12 Minuten  3 Sekunden\n",
      "beta  = 105 Grad 15 Minuten 59 Sekunden\n",
      "---------------------------------------\n",
      "Summe = 139 Grad 28 Minuten  2 Sekunden\n"
     ]
    }
   ],
   "source": [
    "w1 = [\"alpha\", 34, 12, 3]\n",
    "w2 = [\"beta\", 105, 15, 59]\n",
    "\n",
    "def convertToBase60(v): return v // 60, v % 60\n",
    "\n",
    "def calc(w1, w2):\n",
    "    s = w1[3] + w2[3]\n",
    "    ueb, s = convertToBase60(s)\n",
    "    m = w1[2] + w2[2] + ueb\n",
    "    ueb, m = convertToBase60(m)\n",
    "    g = w1[1] + w2[1] + ueb\n",
    "    return [\"Summe\", g, m, s]\n",
    "\n",
    "def createOutputLine(w):\n",
    "    return w[0].ljust(6) + \"=\" + \\\n",
    "        str(w[1]).rjust(4) + \" Grad\" + \\\n",
    "        str(w[2]).rjust(3) + \" Minuten\" + \\\n",
    "        str(w[3]).rjust(3) + \" Sekunden\"\n",
    "\n",
    "ws = calc(w1, w2)\n",
    "\n",
    "l1 = createOutputLine(w1)\n",
    "l2 = createOutputLine(w2)\n",
    "l3 = \"-\" * len(l1)\n",
    "l4 = createOutputLine(ws)\n",
    "print(l1, l2, l3, l4, sep=\"\\n\")"
   ]
  },
  {
   "cell_type": "code",
   "execution_count": null,
   "metadata": {},
   "outputs": [],
   "source": [
    "#Lösung mit 6 Variablen\n",
    "\n",
    "w1g = 34\n",
    "w1m = 12\n",
    "w1s = 3\n",
    "w2g = 105\n",
    "w2m = 15\n",
    "w2s = 59\n",
    "\n",
    "def convertToBase60(v): return v // 60, v % 60\n",
    "\n",
    "def add(w1g, w1m, w1s, w2g, w2m, w2s):\n",
    "    ss = w1s + w2s\n",
    "    ueb, ss = convertToBase60(ss)\n",
    "    sm = w1m + w2m + ueb\n",
    "    ueb, sm = convertToBase60(sm)\n",
    "    sg = w1g + w2g + ueb\n",
    "    return sg, sm, ss\n",
    "\n",
    "wsg, wsm, wss = add(w1g, w1m, w1s, w2g, w2m, w2s)\n",
    "\n",
    "def createLine(name, g, m, s):\n",
    "    line = name.ljust(6) + \"=\" + \\\n",
    "        str(g).rjust(4) + \" Grad,\" + \\\n",
    "        str(m).rjust(3) + \" Minuten,\" + \\\n",
    "        str(s).rjust(3) + \" Sekunden\"\n",
    "    return line    \n",
    "\n",
    "print(createLine(\"alpha\", w1g, w1m, w1s))\n",
    "print(createLine(\"beta\", w2g, w2m, w2s))\n",
    "summeZeile = createLine(\"Summe\", wsg, wsm, wss)\n",
    "print(\"-\" * len(summeZeile))\n",
    "print(summeZeile)"
   ]
  },
  {
   "cell_type": "markdown",
   "metadata": {},
   "source": [
    "### Aufgabe 2\n",
    "\n",
    "Entwickeln Sie ein Programm, das ein beliebiges Zeichen und fünf ganze Zahlen (alle im Wertebereich zwischen 0 und 9) einliest und und jede Zahl durch vertikale Balken bestehend aus einer entsprechend hohen Zeichenfolge ausgibt.\n",
    "\n",
    "    Eingabezeichen: x\n",
    "    Fünf Zahlen: 3 5 7 4 2\n",
    "\n",
    "        x  \n",
    "        x\n",
    "      x x\n",
    "      x x x\n",
    "    x x x x\n",
    "    x x x x x\n",
    "    x x x x x\n",
    "    3 5 7 4 2\n",
    "  \n",
    "Hinweis: Verwenden Sie die Funktion *split*, die auf einem String angewendet werden kann, um die Fünf zahlen aufzuteilen in eine Liste.\n",
    "Die Anzahl der Zahlen in der Liste können Sie mit der integrierten Funktion *len(zahlen)* erfragen."
   ]
  },
  {
   "cell_type": "code",
   "execution_count": 10,
   "metadata": {},
   "outputs": [
    {
     "name": "stdout",
     "output_type": "stream",
     "text": [
      "  O             \n",
      "  O O           \n",
      "  O O           \n",
      "  O O           \n",
      "  O O           \n",
      "  O O     O     \n",
      "  O O   O O     \n",
      "O O O   O O   O \n",
      "1 8 7 0 2 3 0 1\n"
     ]
    }
   ],
   "source": [
    "#Hier soll Ihre Lösung stehen\n",
    "\n",
    "symbol = input(\"Bitte geben Sie das gewünschte Zeichen ein:\")\n",
    "numbers = input(\"Bitte geben Sie fünf Zahlen, getrennt durch ein Leerzeichen ein:\")\n",
    "numbers = numbers.split(' ')\n",
    "amountOfNumbers = len(numbers)\n",
    "\n",
    "def createDiagramLine(lineNumber, numbers):\n",
    "    line = \"\"\n",
    "    for x in numbers:\n",
    "        z = int(x)\n",
    "        if z >= lineNumber:\n",
    "            line += symbol + \" \"\n",
    "        else:\n",
    "            line += \"  \"\n",
    "    return line\n",
    "\n",
    "def getMax(numbers):\n",
    "    max = int(numbers[0])\n",
    "    for x in numbers:\n",
    "        z = int(x)\n",
    "        if z > max:\n",
    "            max = z\n",
    "    return max\n",
    "\n",
    "maxVal = getMax(numbers)\n",
    "for val in reversed(range(1, maxVal + 1)):\n",
    "    print(createDiagramLine(val, numbers))\n",
    "\n",
    "#Jedes Element, gefolgt von \" \" ausgeben\n",
    "print(\" \".join(numbers))\n",
    "\n"
   ]
  },
  {
   "cell_type": "code",
   "execution_count": 1,
   "metadata": {},
   "outputs": [
    {
     "name": "stdout",
     "output_type": "stream",
     "text": [
      "        x  \n",
      "        x  \n",
      "        x  \n",
      "     x  x  \n",
      "     x  x  \n",
      "   x x  x  \n",
      "   x x  x  \n",
      " x x x  x  \n",
      " x x x  x x\n",
      " x x x  x x\n",
      " 3 5 7 10 2\n"
     ]
    }
   ],
   "source": [
    "#Lösung mit Support für größere Zahlen mit Ausrichtung\n",
    "zahlen = [3, 5, 7, 10, 2]\n",
    "zeichen = \"x\"\n",
    "\n",
    "\n",
    "def printDiagram(zahlen, zeichen):\n",
    "    m = max(zahlen)\n",
    "    for i in range(m):\n",
    "        az = m - i\n",
    "        line = \"\"\n",
    "        for z in zahlen:\n",
    "            if z >= az: line += \" \" * len(str(z)) + zeichen\n",
    "            else: line += \"  \"\n",
    "        print(line)\n",
    "    line = \"\"\n",
    "    for z in zahlen: line += \" \" + str(z)\n",
    "    print(line)\n",
    "\n",
    "printDiagram(zahlen, zeichen)"
   ]
  },
  {
   "cell_type": "code",
   "execution_count": 2,
   "metadata": {},
   "outputs": [
    {
     "name": "stdout",
     "output_type": "stream",
     "text": [
      "          xx   \n",
      "          xx   \n",
      "          xx   \n",
      "       xx xx xx\n",
      "       xx xx xx\n",
      "    xx xx xx xx\n",
      "    xx xx xx xx\n",
      " xx xx xx xx xx\n",
      " xx xx xx xx xx\n",
      " xx xx xx xx xx\n",
      " 3  5  7  10 7 \n"
     ]
    }
   ],
   "source": [
    "#Lösung mit Support für größere Zahlen mit Ausrichtung und breiteren Balken\n",
    "zahlen = [3, 5, 7, 10, 7]\n",
    "zeichen = \"x\"\n",
    "\n",
    "\n",
    "def printDiagram(zahlen, zeichen):\n",
    "    m = max(zahlen)\n",
    "    maxBr = max(map(lambda x : len(str(x)), zahlen)) #Maximale Zahlenbreite ermitteln\n",
    "    for i in range(m):\n",
    "        az = m - i\n",
    "        line = \"\"\n",
    "        for z in zahlen:\n",
    "            if z >= az: line += \" \" + zeichen * maxBr\n",
    "            else: line += \" \" * (maxBr + 1)\n",
    "        print(line)\n",
    "    line = \"\"\n",
    "    for z in zahlen: line += \" \" + str(z).center(maxBr)\n",
    "    print(line)\n",
    "\n",
    "printDiagram(zahlen, zeichen)\n",
    "\n"
   ]
  },
  {
   "cell_type": "code",
   "execution_count": 1,
   "metadata": {},
   "outputs": [
    {
     "name": "stdout",
     "output_type": "stream",
     "text": [
      "          o       \n",
      "          o       \n",
      "        o o       \n",
      "        o o       \n",
      "  o     o o   o   \n",
      "o o     o o o o   \n",
      "o o     o o o o o \n",
      "o o o   o o o o o \n",
      "3 4 1 0 6 8 3 4 2 \n"
     ]
    }
   ],
   "source": [
    "#Hier soll Ihre Lösung stehen\n",
    "\n",
    "def createOneLine(zahlen, zeichen, h):\n",
    "    line = \"\"\n",
    "    for z in zahlen: \n",
    "        if z >= h: line += zeichen + \" \"\n",
    "        else: line += \"  \"\n",
    "    return line\n",
    "\n",
    "def printChart(zahlen, zeichen):\n",
    "    grZahl = max(zahlen)\n",
    "    for i in range(grZahl):\n",
    "        h = grZahl - i\n",
    "        print(createOneLine(zahlen, zeichen, h))\n",
    "    \n",
    "    line = \"\"\n",
    "    for z in zahlen: line+= str(z) + \" \"\n",
    "    print(line)\n",
    "\n",
    "printChart([3, 4, 1, 0, 6, 8, 3, 4, 2], \"o\")\n"
   ]
  }
 ],
 "metadata": {
  "kernelspec": {
   "display_name": "Python 3 (ipykernel)",
   "language": "python",
   "name": "python3"
  },
  "language_info": {
   "codemirror_mode": {
    "name": "ipython",
    "version": 3
   },
   "file_extension": ".py",
   "mimetype": "text/x-python",
   "name": "python",
   "nbconvert_exporter": "python",
   "pygments_lexer": "ipython3",
   "version": "3.11.4"
  },
  "vscode": {
   "interpreter": {
    "hash": "3e8152e6aee2daa82ef9c6dca186ad9f49ea31c3d0b948ef0ee167d461c00ece"
   }
  }
 },
 "nbformat": 4,
 "nbformat_minor": 4
}
