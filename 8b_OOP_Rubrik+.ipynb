{
 "cells": [
  {
   "cell_type": "markdown",
   "metadata": {},
   "source": [
    "# Übung 080b\n",
    "## Computational Thinking\n",
    "Hochschule München, Prof. Dr. Thomas Kofler"
   ]
  },
  {
   "cell_type": "markdown",
   "metadata": {},
   "source": [
    "Erweiterung des Programms aus Aufgabe 1.\n",
    "\n",
    "#### Aufgabe 1.1 \n",
    "Fügen Sie weitere Funktion hinzu:\n",
    "\n",
    "    4 ... Kontakt suchen\n",
    "    5 ... Kontakt editieren\n",
    "\n",
    "Kontakt suchen soll in der Lage sein, Kontakte zu finden, die einen bestimmten \"Suchstring\" im Namen haben. Z.B. sucht der Benutzer nach \"thomas\", sollen alle Kontakte angezeigt werden, die \"thomas\" an einer beliebigen Stelle im Namen haben.\n",
    "\n",
    "Kontakt editieren, soll es erlauben, den Namen und/oder die E-Mail-Adresse eines Kontaktes zu ändern.\n",
    "\n",
    "\n",
    "#### Aufgabe 1.2 \n",
    "Speichern Sie zusätzlich das Programm als \".py\"-Datei und starten Sie es von der Konsole/Terminal aus.\n",
    "\n"
   ]
  },
  {
   "cell_type": "code",
   "execution_count": null,
   "metadata": {},
   "outputs": [],
   "source": [
    "#Hier sollte Ihre Lösung stehen.\n",
    "#Speichern Sie diese als .py-Datei und führen Sie das Programm auf der Konsole aus.\n"
   ]
  },
  {
   "cell_type": "markdown",
   "metadata": {},
   "source": [
    "#### Zusatzaufgabe 1.3\n",
    "Optional (für die Schnellen gedacht): Überlegen Sie, wie Sie mit den bereits bekannten Mitteln es schaffen, dass beim Starten des Programms eine Datei geladen wird, die bereits alle zuvor erstellten Kontakte enthält. \n",
    "\n",
    "* Sorgen Sie dafür, dass beim Beenden des Programms, alle Kontakte automatisch gespeichert werden.\n",
    "* Laden Sie alle bereits gespeicherten Kontakte beim Starten des Programms (ebenso automatisch).\n"
   ]
  }
 ],
 "metadata": {
  "kernelspec": {
   "display_name": "Python 3 (ipykernel)",
   "language": "python",
   "name": "python3"
  },
  "language_info": {
   "codemirror_mode": {
    "name": "ipython",
    "version": 3
   },
   "file_extension": ".py",
   "mimetype": "text/x-python",
   "name": "python",
   "nbconvert_exporter": "python",
   "pygments_lexer": "ipython3",
   "version": "3.11.4"
  },
  "vscode": {
   "interpreter": {
    "hash": "3e8152e6aee2daa82ef9c6dca186ad9f49ea31c3d0b948ef0ee167d461c00ece"
   }
  }
 },
 "nbformat": 4,
 "nbformat_minor": 4
}
