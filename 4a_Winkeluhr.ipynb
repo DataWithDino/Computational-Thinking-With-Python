{
 "cells": [
  {
   "cell_type": "markdown",
   "metadata": {},
   "source": [
    "# Übung 040a\n",
    "## Computational Thinking\n",
    "Hochschule München, Prof. Dr. Thomas Kofler\n",
    "\n",
    "\n",
    "\n",
    "\n"
   ]
  },
  {
   "cell_type": "markdown",
   "metadata": {},
   "source": [
    "### Aufgabe 1\n",
    "\n",
    "Implementieren Sie ein Python-Programm, in Form einer Funktion, das zwei Winkel (alpha und beta) in Form von Graden, Minuten und Sekunden als Parameter nimmt und deren Summe berechnet und wieder ausgibt. \n",
    "\n",
    "Die Ausgabe soll wie folgt aussehen:\n",
    "\n",
    "    alpha =  34 Grad, 12 Minuten,  3 Sekunden\n",
    "    beta  = 105 Grad, 15 Minuten, 59 Sekunden\n",
    "    -----------------------------------------\n",
    "    Summe = 139 Grad, 28 Minuten,  2 Sekunden\n",
    "\n",
    "\n",
    "Achten Sie darauf, dass die Grade, Minuten, usw. so untereinander stehen, dass die Einheit gleich ausgerichtet ist.\n",
    "\n",
    "**Achtung**: Minuten und Sekunden haben einen Maximalwert von 59. Das heißt, z.B. sobald 60 Sekunden erreicht wird, werden die Sekunden wieder auf 0 gesetzt und die Minuten um 1 erhöht. Erreichen die Minuten den Wert 60, werden die Grade erhöht und die Minuten wieder auf 0 gesetzt.\n",
    "\n",
    "**Hinweis:** Die Länge einer Zeichenkette können Sie mit der Funktion *len(\"str\")* bestimmen. Weiter können Sie auf einen String die Funktion *zfill(5)* ausführen. Dies führt dazu, dass ein String mit führenden \"0\" ausgefüllt wird, bis die gewünschte Länge erreicht ist. Ein String weißt auch eine Funktion *rjust(10)* aus, die eine Zeichenkette rechts ausrichtet. Wobei der Parameter *10* aussagt, dass innerhalb von 10 Leerzeichen ausgerichtet wird. Testen Sie diese Funktionen, bevor Sie sie verwenden. Hinweis: Es gibt auch *ljust*.\n",
    "\n",
    "\n"
   ]
  },
  {
   "cell_type": "markdown",
   "metadata": {},
   "source": [
    "* Schreiben Sie eine Funktion, die eine Zeile der Ausgabe via 'print' ausgibt, Parameter sind: \n",
    "  * Name des Winkels\n",
    "  * Grad\n",
    "  * Minuten\n",
    "  * Sekunden\n",
    "\n",
    "\n",
    "\n",
    "- Schreiben Sie eine Funktion, die zwei Winkel als Parameter übernimmt und das Ergebnis der Addition zurückliefert.\n"
   ]
  },
  {
   "cell_type": "code",
   "execution_count": 4,
   "metadata": {},
   "outputs": [
    {
     "name": "stdout",
     "output_type": "stream",
     "text": [
      "alpha =  34 Grad, 12 Minuten,  3 Sekunden\n",
      "beta  = 105 Grad, 15 Minuten, 59 Sekunden\n",
      "-----------------------------------------\n",
      "Summe = 139 Grad, 28 Minuten,  2 Sekunden\n"
     ]
    }
   ],
   "source": [
    "def add_angles(alpha_deg, alpha_min, alpha_sec, beta_deg, beta_min, beta_sec):\n",
    "    total_sec = alpha_sec + beta_sec\n",
    "    extra_min = total_sec // 60       #wenn extraminute vorhanden ist extra_min=1\n",
    "    total_sec %= 60                   #richtige Sekunden wenn >60\n",
    "\n",
    "    total_min = alpha_min + beta_min + extra_min\n",
    "    extra_deg = total_min // 60\n",
    "    total_min %= 60\n",
    "\n",
    "    total_deg = alpha_deg + beta_deg + extra_deg\n",
    "\n",
    "    return total_deg, total_min, total_sec\n",
    "\n",
    "# Eingabe der Winkel\n",
    "alpha_deg, alpha_min, alpha_sec = 34, 12, 3\n",
    "beta_deg, beta_min, beta_sec = 105, 15, 59\n",
    "\n",
    "# Berechnung der Summe der Winkel\n",
    "total_deg, total_min, total_sec = add_angles(alpha_deg, alpha_min, alpha_sec, beta_deg, beta_min, beta_sec)\n",
    "\n",
    "# Ausgabe\n",
    "print(f\"alpha = {alpha_deg:3} Grad, {alpha_min:2} Minuten, {alpha_sec:2} Sekunden\")\n",
    "print(f\"beta  = {beta_deg:3} Grad, {beta_min:2} Minuten, {beta_sec:2} Sekunden\")\n",
    "print(\"-----------------------------------------\")\n",
    "print(f\"Summe = {total_deg:3} Grad, {total_min:2} Minuten, {total_sec:2} Sekunden\")\n",
    "\n",
    "    "
   ]
  },
  {
   "cell_type": "code",
   "execution_count": null,
   "metadata": {},
   "outputs": [],
   "source": []
  }
 ],
 "metadata": {
  "kernelspec": {
   "display_name": "Python 3 (ipykernel)",
   "language": "python",
   "name": "python3"
  },
  "language_info": {
   "codemirror_mode": {
    "name": "ipython",
    "version": 3
   },
   "file_extension": ".py",
   "mimetype": "text/x-python",
   "name": "python",
   "nbconvert_exporter": "python",
   "pygments_lexer": "ipython3",
   "version": "3.11.4"
  },
  "vscode": {
   "interpreter": {
    "hash": "3e8152e6aee2daa82ef9c6dca186ad9f49ea31c3d0b948ef0ee167d461c00ece"
   }
  }
 },
 "nbformat": 4,
 "nbformat_minor": 4
}
