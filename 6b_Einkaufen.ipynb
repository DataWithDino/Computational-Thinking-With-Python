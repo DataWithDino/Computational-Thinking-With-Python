{
 "cells": [
  {
   "cell_type": "markdown",
   "metadata": {},
   "source": [
    "# Übung 060b\n",
    "## Computational Thinking\n",
    "Hochschule München, Prof. Dr. Thomas Kofler"
   ]
  },
  {
   "cell_type": "markdown",
   "metadata": {},
   "source": [
    "### Aufgabe 3\n",
    "\n",
    "Gegeben ist ist ein Materialstamm eines Unternehmens \"Baumarkt\". \n",
    "\n",
    "Ihre Aufgabe ist es, die Rechnungssumme und die Umsatzsteuer der Bestellung zu berechnen. Die Bestellung enthält neben Angabe des gewünschten Materials auch die Anzahl der gewünschten Materialien. Im Beispiel bedeutet dies, dass bei der Bestellung 15 Schrauben bestellt werden. Der Preis errechnet sich aus den Angaben des Materialstamms. Eine Schraube kostet 1.01 EUR, der Preis enthält 19% Umsatzsteuer. Die Umsatzsteuer ist abhängig vom Material."
   ]
  },
  {
   "cell_type": "code",
   "execution_count": 34,
   "metadata": {},
   "outputs": [
    {
     "name": "stdout",
     "output_type": "stream",
     "text": [
      "('schraube', (1.01, 19))\n",
      "('blech', (7.32, 19))\n",
      "('holzbrett', (76.32, 19))\n",
      "('hammer', (12.99, 19))\n",
      "('buch', (49.99, 8))\n",
      "(1.01, 19)\n",
      "(7.32, 19)\n",
      "(76.32, 19)\n",
      "(12.99, 19)\n",
      "(49.99, 8)\n",
      "schraube\n",
      "blech\n",
      "holzbrett\n",
      "hammer\n",
      "buch\n",
      "___________________________\n",
      "152.61€\n",
      "23.5€\n"
     ]
    }
   ],
   "source": [
    "#Vorgaben\n",
    "######################################\n",
    "#Stammdaten des Unternehmens\n",
    "materialstamm = {\"schraube\" : (1.01, 19), \"blech\" : (7.32, 19), \"holzbrett\" : (76.32, 19), \"hammer\" : (12.99, 19), \"buch\" : (49.99, 8)}\n",
    "\n",
    "#Materialbestellung\n",
    "bestellung = {\"schraube\" : 15, \"hammer\": 2, \"blech\" : 8.4, \"buch\" : 1}\n",
    "\n",
    "#Speichern Sie die Ergebnise in den Variablen\n",
    "rechnungssumme = 0.0\n",
    "umsatzsteuer = 0.0\n",
    "\n",
    "#Theorie\n",
    "for value in materialstamm.items():\n",
    "    print(value)\n",
    "for value in materialstamm.values():\n",
    "    print(value)\n",
    "for key in materialstamm:\n",
    "    print(key)\n",
    "print(\"___________________________\")\n",
    "for key in materialstamm:\n",
    "    if key in bestellung:\n",
    "        rechnungssumme += materialstamm[key][0] * bestellung[key]\n",
    "        umsatzsteuer += materialstamm[key][0] * bestellung[key] * (materialstamm[key][1] / 100)\n",
    "\n",
    "rechnungssumme=str(round(rechnungssumme,2))\n",
    "umsatzsteuer=str(round(umsatzsteuer,2))\n",
    "\n",
    "print(rechnungssumme+\"€\")\n",
    "print(umsatzsteuer+\"€\")"
   ]
  },
  {
   "cell_type": "markdown",
   "metadata": {},
   "source": [
    "### Aufgabe 4\n",
    "\n",
    "Wir wollen ein Standardproblem der Informatik lösen. Gegeben ist ein Array mit Ganzzahlen.\n",
    "Gesucht sind zwei Arrays, das erste Array soll nur eindeutige Werte enthalten und das zweite nur die Duplikate, die zwei mal oder öfter in der ersten Liste vorkommen.\n",
    "Beispiel:\n",
    "\n",
    "    [1,2,3,3,3,8,7,2,8] \n",
    "\n",
    "produziert die Ausgabe \n",
    "\n",
    "    [1,2,3,8,7] \n",
    "und \n",
    "\n",
    "    [2,3,8] \n",
    "    \n",
    "Es ist erkennbar, dass die Zahlen 1 und 7 in der Eingabeliste nicht mehrmals vorkommen, diese Zahlen haben daher keine Duplikate und sollen nicht in der zweiten Liste auftauchen. \n"
   ]
  },
  {
   "cell_type": "code",
   "execution_count": 13,
   "metadata": {},
   "outputs": [
    {
     "name": "stdout",
     "output_type": "stream",
     "text": [
      "[1, 2, 3, 8, 7]\n",
      "[3, 2, 8]\n"
     ]
    }
   ],
   "source": [
    "#Hier soll Ihre Lösung stehen\n",
    "liste = [1,2,3,3,3,8,7,2,8]\n",
    "a=[]\n",
    "b=[]\n",
    "for i in range (9):\n",
    "    if(liste[i] in b):\n",
    "        continue\n",
    "    elif(liste[i] in a):\n",
    "        b.append(liste[i])\n",
    "    else:\n",
    "        a.append(liste[i])\n",
    "\n",
    "print(a)\n",
    "print(b)\n"
   ]
  },
  {
   "cell_type": "code",
   "execution_count": null,
   "metadata": {},
   "outputs": [],
   "source": []
  }
 ],
 "metadata": {
  "kernelspec": {
   "display_name": "Python 3 (ipykernel)",
   "language": "python",
   "name": "python3"
  },
  "language_info": {
   "codemirror_mode": {
    "name": "ipython",
    "version": 3
   },
   "file_extension": ".py",
   "mimetype": "text/x-python",
   "name": "python",
   "nbconvert_exporter": "python",
   "pygments_lexer": "ipython3",
   "version": "3.11.4"
  },
  "vscode": {
   "interpreter": {
    "hash": "3e8152e6aee2daa82ef9c6dca186ad9f49ea31c3d0b948ef0ee167d461c00ece"
   }
  }
 },
 "nbformat": 4,
 "nbformat_minor": 4
}
