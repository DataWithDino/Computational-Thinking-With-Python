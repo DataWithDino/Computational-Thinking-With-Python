{
 "cells": [
  {
   "cell_type": "markdown",
   "metadata": {},
   "source": [
    "# Übung 040b\n",
    "## Computational Thinking\n",
    "Hochschule München, Prof. Dr. Thomas Kofler\n",
    "\n",
    "\n",
    "\n",
    "\n"
   ]
  },
  {
   "cell_type": "markdown",
   "metadata": {},
   "source": [
    "### Aufgabe 2\n",
    "\n",
    "Entwickeln Sie ein Programm, das ein beliebiges Zeichen und fünf ganze Zahlen (alle im Wertebereich zwischen 0 und 9) einliest und und jede Zahl durch vertikale Balken bestehend aus einer entsprechend hohen Zeichenfolge ausgibt.\n",
    "\n",
    "    Eingabezeichen: x\n",
    "    Fünf Zahlen: 3 5 7 4 2\n",
    "\n",
    "        x  \n",
    "        x\n",
    "      x x\n",
    "      x x x\n",
    "    x x x x\n",
    "    x x x x x\n",
    "    x x x x x\n",
    "    3 5 7 4 2\n",
    "  \n",
    "Hinweis: Verwenden Sie die Funktion *split*, die auf einem String angewendet werden kann, um die Fünf zahlen aufzuteilen in eine Liste.\n",
    "Die Anzahl der Zahlen in der Liste können Sie mit der integrierten Funktion *len(zahlen)* erfragen.\n",
    "\n",
    "Zusatzaufgabe für die Motivierten: Lassen Sie auch Zahlen >= 10 und < 100 zu. Verbreitern Sie dann alle \"Balken\" auf zwei Zeichen."
   ]
  },
  {
   "cell_type": "code",
   "execution_count": 1,
   "metadata": {},
   "outputs": [
    {
     "name": "stdin",
     "output_type": "stream",
     "text": [
      "Eingabezeichen:  x\n",
      "Fünf Zahlen:  3 5 7 4 2\n"
     ]
    },
    {
     "name": "stdout",
     "output_type": "stream",
     "text": [
      "    x     \n",
      "    x     \n",
      "  x x     \n",
      "  x x x   \n",
      "x x x x   \n",
      "x x x x x \n",
      "x x x x x \n",
      "3 5 7 4 2\n"
     ]
    }
   ],
   "source": [
    "def print_vertical_bars(char, numbers):\n",
    "    max_num = max(numbers)\n",
    "    for i in range(max_num, 0, -1):\n",
    "        line = ''\n",
    "        for num in numbers:\n",
    "            if num >= i:\n",
    "                line += char + ' '\n",
    "            else:\n",
    "                line += '  '\n",
    "        print(line)\n",
    "    print(' '.join(map(str, numbers)))\n",
    "\n",
    "\n",
    "# Eingabe einlesen\n",
    "eingabezeichen = input(\"Eingabezeichen: \")[0]\n",
    "eingabezahlen = list(map(int, input(\"Fünf Zahlen: \").split()))\n",
    "\n",
    "# Funktion aufrufen\n",
    "print_vertical_bars(eingabezeichen, eingabezahlen)\n",
    "\n",
    "\n"
   ]
  },
  {
   "cell_type": "markdown",
   "metadata": {},
   "source": [
    "### Aufgabe 3: Schleifenarten -- Rekursion\n",
    "\n",
    "Implementieren Sie ein Programm, das für eine einzulesende positive ganze Zahl *n* deren Fibonacci-Zahl *Fib(n)* gemäß folgender Definition ermittelt:\n",
    "\n",
    "    Fib(0) = 0\n",
    "    Fib(1) = 1\n",
    "    Fib(n) = Fib(n-1) + Fib(n-2)  #für n > 1\n",
    "\n",
    "Erstellen Sie eine\n",
    "- rekursive Version und eine\n",
    "- mit einer *While*-Schleife (nur sofern Sie bereits mit Listen umgehen können)."
   ]
  },
  {
   "cell_type": "code",
   "execution_count": 12,
   "metadata": {},
   "outputs": [
    {
     "name": "stdin",
     "output_type": "stream",
     "text": [
      "Geben Sie eine positive ganze Zahl ein:  9\n"
     ]
    },
    {
     "name": "stdout",
     "output_type": "stream",
     "text": [
      "Die Fibonacci-Zahl für 9 ist 34.\n"
     ]
    }
   ],
   "source": [
    "def fibonacci(n):\n",
    "    if n <= 0:\n",
    "        return 0\n",
    "    elif n == 1:\n",
    "        return 1\n",
    "    else:\n",
    "        return fibonacci(n - 1) + fibonacci(n - 2)\n",
    "\n",
    "# Eingabe einlesen\n",
    "n = int(input(\"Geben Sie eine positive ganze Zahl ein: \"))\n",
    "\n",
    "# Fibonacci-Zahl berechnen und ausgeben\n",
    "result = fibonacci(n)\n",
    "print(f\"Die Fibonacci-Zahl für {n} ist {result}.\")\n"
   ]
  },
  {
   "cell_type": "code",
   "execution_count": 13,
   "metadata": {
    "tags": []
   },
   "outputs": [
    {
     "name": "stdin",
     "output_type": "stream",
     "text": [
      "Geben Sie eine positive ganze Zahl ein:  9\n"
     ]
    },
    {
     "name": "stdout",
     "output_type": "stream",
     "text": [
      "Die Fibonacci-Zahl für 9 ist 34.\n"
     ]
    }
   ],
   "source": [
    "def fibonacci(n):\n",
    "    if n <= 0:\n",
    "        return 0\n",
    "    elif n == 1:\n",
    "        return 1\n",
    "    else:\n",
    "        a, b = 0, 1\n",
    "        i = 2\n",
    "        while i <= n:\n",
    "            fib = a + b\n",
    "            a, b = b, fib\n",
    "            i += 1\n",
    "        return b\n",
    "\n",
    "# Eingabe einlesen\n",
    "n = int(input(\"Geben Sie eine positive ganze Zahl ein: \"))\n",
    "\n",
    "# Fibonacci-Zahl berechnen und ausgeben\n",
    "result = fibonacci(n)\n",
    "print(f\"Die Fibonacci-Zahl für {n} ist {result}.\")\n"
   ]
  }
 ],
 "metadata": {
  "kernelspec": {
   "display_name": "Python 3 (ipykernel)",
   "language": "python",
   "name": "python3"
  },
  "language_info": {
   "codemirror_mode": {
    "name": "ipython",
    "version": 3
   },
   "file_extension": ".py",
   "mimetype": "text/x-python",
   "name": "python",
   "nbconvert_exporter": "python",
   "pygments_lexer": "ipython3",
   "version": "3.11.4"
  },
  "vscode": {
   "interpreter": {
    "hash": "3e8152e6aee2daa82ef9c6dca186ad9f49ea31c3d0b948ef0ee167d461c00ece"
   }
  }
 },
 "nbformat": 4,
 "nbformat_minor": 4
}
