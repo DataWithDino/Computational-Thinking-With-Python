{
 "cells": [
  {
   "cell_type": "markdown",
   "metadata": {},
   "source": [
    "# Übung 100\n",
    "## Computational Thinking\n",
    "Hochschule München, Prof. Dr. Thomas Kofler"
   ]
  },
  {
   "cell_type": "markdown",
   "metadata": {},
   "source": [
    "### Aufgabe: Schreiben Sie einen Kompressionsalgorithmus\n",
    "\n",
    "In einem Kompressionsalgorithmus gibt es typischerweise ein Nachschlageverzeichnis (Dictionary). In diesem Verzeichnis werden Zeichenketten hinterlegt. Dieses Verzeichnis dient als Nachschlagewerk. Kommt z.B. ein bestimmtes Zeichen in einer Kombination mehrmals in einer zu komprimierenden Zeichenkette vor, wird dieses Vorkommen ersetzt gegen ein kürzeres Zeichen. Das kürzere Zeichen wird als Eintrag im Nachschlagewerk hinterlegt und auch, für welche Zeichenkette es steht.\n",
    "\n",
    "**Hinweis:** Wir wollen uns in dieser Übung auf die Kompression von Zahlen beschränken. Auch im Verzeichnis verwenden wir Zahlen. \n",
    "\n",
    "Beispiel-Eingabe: 8888777554888811222222211558888888899999995548888\n",
    "\n",
    "Ihr Algorithmus soll nun, solange die gleiche Zahl nacheinander vorkommt in der Anzahl der Vorkommen einen Eintrag ins Verzeichnis (Nachschlagewerk) vornehmen.\n",
    "\n",
    "Beginnen wir mit 8888\n",
    "- für 8888 tragen wir im Verzeichnis ein {1: 8888}, \n",
    "- danach kommt 777, dafür tragen wir im Verzeichnis ein {2: 777},\n",
    "- danach kommt 55, dafür tragen wir ins Verzeichnis ein {3: 55},\n",
    "- für die 4 tragen wir im Verzeichnis ein {4: 4},\n",
    "- die danach kommende 8888 ist bereits im Verzeichnis, wird daher nicht gesondert aufgenommen. \n",
    "- Usw.\n",
    "\n",
    "Nachdem wir das gemacht haben, sind wir in der Lage, statt der Eingabe, folgende neue Ausgabe auszugeben (bis zur zweiten 8888):\n",
    "    \n",
    "    1,2,3,4,1,...\n",
    "\n",
    "So ähnlich arbeitet auch ein Kompressionsalgorithmus. Das heißt, die 1 steht nach unserem Verzeichnis für 8888, die 2 für 777, die 3 für 55 usw. Wir sind daher in der Lage, die Zeichenkette in ihrer Gesamtlänge zu verkürzen, also zu komprimieren.\n",
    "\n",
    "**Zusatzüberlegung:** Überlegen Sie, wann Ihr Algorihtmus an Grenzen stößt und wie Sie mit diesen Grenzen umgehen könnten. Z.B. dann, wenn Sie mehr als 9 verschiedene Zahlenblöcke in der Eingabe hätten. Diese Überlegungen müssen Sie nicht implementieren.\n",
    "\n",
    "**Hinweis:** Denken Sie daran, dass Sie mit *dic.items()* über alle Eintrage eines Dictionarys iterieren können."
   ]
  },
  {
   "cell_type": "code",
   "execution_count": null,
   "metadata": {},
   "outputs": [],
   "source": [
    "#Beispiel-Eingabe\n",
    "input = \"8888777554888811222222211558888888899999995548888\" #als string\n",
    "\n",
    "def compress(input : str) -> tuple[str, dict]:\n",
    "    \"\"\"Diese Funktion komprimiert eine Eingabe und gibt die komprimierte Eingabe als String wieder zurück.\n",
    "    \n",
    "    Arguments:\n",
    "    - input: Die zu komprimierende Zeichenkette\n",
    "    \n",
    "    Returns:\n",
    "    - str: Die komprimierte Zeichenkette\n",
    "    - dict: Das Nachschlageverzeichnis\n",
    "    \"\"\"\n",
    "\n",
    "#Verwendung\n",
    "print(compress(input))     #Ergebnis ausgeben\n",
    "cmp, dc = compress(input)  #Ergebnis als Tupel in cmp und dc speichern\n",
    "\n",
    "def decompress(compressedInput: str, dict : dict) -> str:\n",
    "    \"\"\"Diese Funktion dekomprimiert eine Eingabe und liefert das unkomprimierte Ergebnis wieder zurück.\n",
    "    \n",
    "    Arguments:\n",
    "    - compressedInput: Die komprimierte Eingabe. \n",
    "    - dic: Das Nachschlageverzeichnis für die Abkürzungen.\n",
    "\n",
    "    Returns:\n",
    "    - Die Funktion liefert die dekomprimierte Zeichenkette zurück.\n",
    "    \"\"\"\n",
    "\n",
    "print(decompress(cmp, dc)) #Dekompression\n"
   ]
  }
 ],
 "metadata": {
  "kernelspec": {
   "display_name": "Python 3.10.8 64-bit (microsoft store)",
   "language": "python",
   "name": "python3"
  },
  "language_info": {
   "codemirror_mode": {
    "name": "ipython",
    "version": 3
   },
   "file_extension": ".py",
   "mimetype": "text/x-python",
   "name": "python",
   "nbconvert_exporter": "python",
   "pygments_lexer": "ipython3",
   "version": "3.10.9 (tags/v3.10.9:1dd9be6, Dec  6 2022, 20:01:21) [MSC v.1934 64 bit (AMD64)]"
  },
  "orig_nbformat": 2,
  "vscode": {
   "interpreter": {
    "hash": "3e8152e6aee2daa82ef9c6dca186ad9f49ea31c3d0b948ef0ee167d461c00ece"
   }
  }
 },
 "nbformat": 4,
 "nbformat_minor": 2
}
