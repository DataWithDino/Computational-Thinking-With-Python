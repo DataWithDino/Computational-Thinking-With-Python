{
 "cells": [
  {
   "cell_type": "markdown",
   "metadata": {},
   "source": [
    "# Übung 070b\n",
    "## Computational Thinking\n",
    "Hochschule München, Prof. Dr. Thomas Kofler"
   ]
  },
  {
   "cell_type": "markdown",
   "metadata": {},
   "source": [
    "### Aufgabe 3\n",
    "Schreiben Sie die Inhalte des *Dictonaries* das Sie in Aufgabe 2 erstellt haben, als CSV in eine neue Datei.\n",
    "\n",
    "Achten Sie darauf, dass die Datei von z.B. Microsoft Excel geöffnet werden kann.\n",
    "Sie möchten folgende Struktur erreichen\n",
    "\n",
    "    Abschnittsname; Technologie 1; Technologie 2; Technologie ...; Technologie n\n",
    "\n",
    "Das heißt, Ihre CSV-Datei hat so viele Spalten, wie der Abschnitt mit der maximalen Anzahl von Technologien.\n",
    "Für jeden Abschnitt schreiben Sie dann eine Zeile in die CSV-Datei. Jede Technologie steht in einer separaten Zelle (getrennt durch **;**). Hat ein Abschnitt weniger Technologien, wie die maximale Anzahl von Technologien, so werden die leeren Zellen dennoch geschrieben und wieder mit **;** abgeschlossen, z.B.\n",
    "\n",
    "    Basic Concepts; RFID; QR Code; ... ;;;;; #Falls unter Basic Concepts weniger Technologien vorhanden sind\n",
    "\n",
    "Versuchen Sie Ihre erstellte Datei in z.B. Microsoft Excel zu öffnen.\n",
    "\n",
    "Sie können eine Datei erstellen, indem Sie folgendes tun:\n",
    "\n",
    "    datei = open(\"OutputTechnologien.csv\", \"w\") #Modus 'w' überschreibt bereits vorhandene Inhalte\n",
    "    datei.write(\"Meine erste Zeile\\n\") #\\n ist ein Zeilenumbruch\n",
    "    datei.close() #Schließen der Datei\n"
   ]
  },
  {
   "cell_type": "code",
   "execution_count": 1,
   "metadata": {},
   "outputs": [
    {
     "name": "stdout",
     "output_type": "stream",
     "text": [
      "The data has been written to the file /Users/dino.dervisevic/Desktop/CompThink/Übung/OutputTechnologien.csv.\n"
     ]
    }
   ],
   "source": [
    "output_file = \"/Users/dino.dervisevic/Desktop/CompThink/Übung/OutputTechnologien.csv\"\n",
    "\n",
    "file_path = \"/Users/dino.dervisevic/Desktop/CompThink/Übung/CT_Ãbung070_Technologien.txt\"\n",
    "\n",
    "with open(file_path, \"r\", encoding=\"utf-8\") as file:\n",
    "    lines = file.readlines()\n",
    "\n",
    "clusters = {}\n",
    "current_cluster = None\n",
    "\n",
    "# Organize the data into clusters\n",
    "for line in lines:\n",
    "    line = line.strip()\n",
    "\n",
    "    if line.startswith(\"*******\"):\n",
    "        current_cluster = line[7:].strip()\n",
    "        clusters[current_cluster] = []\n",
    "    elif line:\n",
    "        clusters[current_cluster].append(line)\n",
    "\n",
    "# Remove empty values from the dictionary\n",
    "clusters = {cluster: technologies for cluster, technologies in clusters.items() if technologies}\n",
    "\n",
    "# Find the maximum number of technologies among all clusters\n",
    "max_technologies = max(len(technologies) for technologies in clusters.values())\n",
    "\n",
    "# Write data to the CSV file\n",
    "with open(output_file, mode='w', encoding='utf-8') as file:\n",
    "    # Write header row\n",
    "    header = 'Abschnittsname;' + ';'.join([f'Technologie {i+1}' for i in range(max_technologies)]) + '\\n'\n",
    "    file.write(header)\n",
    "\n",
    "    # Write data for each cluster in the CSV file\n",
    "    for cluster, technologies in clusters.items():\n",
    "        row = f\"{cluster};\" + ';'.join(technologies) + ';' + ';' * (max_technologies - len(technologies)) + '\\n'\n",
    "        file.write(row)\n",
    "\n",
    "print(f\"The data has been written to the file {output_file}.\")"
   ]
  },
  {
   "cell_type": "code",
   "execution_count": null,
   "metadata": {},
   "outputs": [],
   "source": []
  }
 ],
 "metadata": {
  "kernelspec": {
   "display_name": "Python 3 (ipykernel)",
   "language": "python",
   "name": "python3"
  },
  "language_info": {
   "codemirror_mode": {
    "name": "ipython",
    "version": 3
   },
   "file_extension": ".py",
   "mimetype": "text/x-python",
   "name": "python",
   "nbconvert_exporter": "python",
   "pygments_lexer": "ipython3",
   "version": "3.11.4"
  },
  "vscode": {
   "interpreter": {
    "hash": "3e8152e6aee2daa82ef9c6dca186ad9f49ea31c3d0b948ef0ee167d461c00ece"
   }
  }
 },
 "nbformat": 4,
 "nbformat_minor": 4
}
