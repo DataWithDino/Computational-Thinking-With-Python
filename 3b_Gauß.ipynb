{
 "cells": [
  {
   "cell_type": "markdown",
   "metadata": {},
   "source": [
    "# Übung 030b\n",
    "## Computational Thinking\n",
    "Hochschule München, Prof. Dr. Thomas Kofler\n",
    "\n",
    "\n",
    "\n",
    "\n"
   ]
  },
  {
   "cell_type": "markdown",
   "metadata": {},
   "source": [
    "### Aufgabe 2\n",
    "\n",
    "Schreiben Sie einen Algorithmus, der alle möglichen Zahlenpaare (x, y) ausgibt, für die gilt\n",
    "\n",
    "    100 = x + y\n",
    "\n",
    "Also z.B. (99, 1) aber auch (0, 100), usw.\n",
    "Geben Sie die Zahlenpaare mittels **print**-Funktion aus.\n",
    "\n",
    "Hinweis: Beachten Sie nur den positiven Zahlenbereich.\n",
    "\n"
   ]
  },
  {
   "cell_type": "code",
   "execution_count": 8,
   "metadata": {
    "tags": []
   },
   "outputs": [
    {
     "name": "stdout",
     "output_type": "stream",
     "text": [
      "( 0 , 100 )\n",
      "( 1 , 99 )\n",
      "( 2 , 98 )\n",
      "( 3 , 97 )\n",
      "( 4 , 96 )\n",
      "( 5 , 95 )\n",
      "( 6 , 94 )\n",
      "( 7 , 93 )\n",
      "( 8 , 92 )\n",
      "( 9 , 91 )\n",
      "( 10 , 90 )\n",
      "( 11 , 89 )\n",
      "( 12 , 88 )\n",
      "( 13 , 87 )\n",
      "( 14 , 86 )\n",
      "( 15 , 85 )\n",
      "( 16 , 84 )\n",
      "( 17 , 83 )\n",
      "( 18 , 82 )\n",
      "( 19 , 81 )\n",
      "( 20 , 80 )\n",
      "( 21 , 79 )\n",
      "( 22 , 78 )\n",
      "( 23 , 77 )\n",
      "( 24 , 76 )\n",
      "( 25 , 75 )\n",
      "( 26 , 74 )\n",
      "( 27 , 73 )\n",
      "( 28 , 72 )\n",
      "( 29 , 71 )\n",
      "( 30 , 70 )\n",
      "( 31 , 69 )\n",
      "( 32 , 68 )\n",
      "( 33 , 67 )\n",
      "( 34 , 66 )\n",
      "( 35 , 65 )\n",
      "( 36 , 64 )\n",
      "( 37 , 63 )\n",
      "( 38 , 62 )\n",
      "( 39 , 61 )\n",
      "( 40 , 60 )\n",
      "( 41 , 59 )\n",
      "( 42 , 58 )\n",
      "( 43 , 57 )\n",
      "( 44 , 56 )\n",
      "( 45 , 55 )\n",
      "( 46 , 54 )\n",
      "( 47 , 53 )\n",
      "( 48 , 52 )\n",
      "( 49 , 51 )\n",
      "( 50 , 50 )\n",
      "( 51 , 49 )\n",
      "( 52 , 48 )\n",
      "( 53 , 47 )\n",
      "( 54 , 46 )\n",
      "( 55 , 45 )\n",
      "( 56 , 44 )\n",
      "( 57 , 43 )\n",
      "( 58 , 42 )\n",
      "( 59 , 41 )\n",
      "( 60 , 40 )\n",
      "( 61 , 39 )\n",
      "( 62 , 38 )\n",
      "( 63 , 37 )\n",
      "( 64 , 36 )\n",
      "( 65 , 35 )\n",
      "( 66 , 34 )\n",
      "( 67 , 33 )\n",
      "( 68 , 32 )\n",
      "( 69 , 31 )\n",
      "( 70 , 30 )\n",
      "( 71 , 29 )\n",
      "( 72 , 28 )\n",
      "( 73 , 27 )\n",
      "( 74 , 26 )\n",
      "( 75 , 25 )\n",
      "( 76 , 24 )\n",
      "( 77 , 23 )\n",
      "( 78 , 22 )\n",
      "( 79 , 21 )\n",
      "( 80 , 20 )\n",
      "( 81 , 19 )\n",
      "( 82 , 18 )\n",
      "( 83 , 17 )\n",
      "( 84 , 16 )\n",
      "( 85 , 15 )\n",
      "( 86 , 14 )\n",
      "( 87 , 13 )\n",
      "( 88 , 12 )\n",
      "( 89 , 11 )\n",
      "( 90 , 10 )\n",
      "( 91 , 9 )\n",
      "( 92 , 8 )\n",
      "( 93 , 7 )\n",
      "( 94 , 6 )\n",
      "( 95 , 5 )\n",
      "( 96 , 4 )\n",
      "( 97 , 3 )\n",
      "( 98 , 2 )\n",
      "( 99 , 1 )\n"
     ]
    }
   ],
   "source": [
    "#Hier bitte die Lösung eintragen\n",
    "for i in range (0,100):\n",
    "    print(\"(\",i ,\",\", 100-i,\")\")\n",
    "    i=i+1\n",
    "   "
   ]
  },
  {
   "cell_type": "code",
   "execution_count": null,
   "metadata": {},
   "outputs": [],
   "source": []
  }
 ],
 "metadata": {
  "kernelspec": {
   "display_name": "Python 3 (ipykernel)",
   "language": "python",
   "name": "python3"
  },
  "language_info": {
   "codemirror_mode": {
    "name": "ipython",
    "version": 3
   },
   "file_extension": ".py",
   "mimetype": "text/x-python",
   "name": "python",
   "nbconvert_exporter": "python",
   "pygments_lexer": "ipython3",
   "version": "3.11.4"
  },
  "vscode": {
   "interpreter": {
    "hash": "3e8152e6aee2daa82ef9c6dca186ad9f49ea31c3d0b948ef0ee167d461c00ece"
   }
  }
 },
 "nbformat": 4,
 "nbformat_minor": 4
}
